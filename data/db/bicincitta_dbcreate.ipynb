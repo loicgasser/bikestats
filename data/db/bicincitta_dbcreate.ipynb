{
 "cells": [
  {
   "cell_type": "markdown",
   "metadata": {},
   "source": [
    "We will insert the downloaded data into databases"
   ]
  },
  {
   "cell_type": "code",
   "execution_count": 66,
   "metadata": {
    "collapsed": false
   },
   "outputs": [],
   "source": [
    "import psycopg2\n",
    "import pandas as pd\n",
    "import os\n",
    "import json\n",
    "\n",
    "connection = psycopg2.connect(\"dbname=publibike_db user=publibike_user\")\n",
    "cursor = connection.cursor()\n",
    "\n",
    "\n",
    "bikedatapath = os.path.join(\"Bicincitta_Drop\", \"datasets_2013\")\n",
    "stnfile = file(os.path.join(bikedatapath, \"stations.json\"), \"r\")\n",
    "subnetfile =  file(os.path.join(bikedatapath, \"subnetworks.json\"), \"r\")             \n",
    "userfile =  file(os.path.join(bikedatapath, \"users.json\"), \"r\")                       \n",
    "trxnfile =  file(os.path.join(bikedatapath, \"transactions.json\"), \"r\")                       \n",
    "\n",
    "\n",
    "\n"
   ]
  },
  {
   "cell_type": "code",
   "execution_count": null,
   "metadata": {
    "collapsed": true
   },
   "outputs": [],
   "source": [
    "subnets = json.load(subnetfile)[u'RECORDS']\n",
    "\n",
    "for snet in subnets:\n",
    "    i = int(snet[u'id'])\n",
    "    name = snet[u'name'].encode(\"utf8\")\n",
    "    cursor.execute(\"INSERT INTO bicincitta.subnetworks ( id, name) \" +\n",
    "                   \"VALUES (%s, %s) \", (i, name))\n",
    "connection.commit()"
   ]
  },
  {
   "cell_type": "code",
   "execution_count": 67,
   "metadata": {
    "collapsed": false
   },
   "outputs": [
    {
     "ename": "IntegrityError",
     "evalue": "duplicate key value violates unique constraint \"stations_pkey\"\nDETAIL:  Key (id)=(145) already exists.\n",
     "output_type": "error",
     "traceback": [
      "\u001b[0;31m---------------------------------------------------------------------------\u001b[0m",
      "\u001b[0;31mIntegrityError\u001b[0m                            Traceback (most recent call last)",
      "\u001b[0;32m<ipython-input-67-e90e8a5f5e40>\u001b[0m in \u001b[0;36m<module>\u001b[0;34m()\u001b[0m\n\u001b[1;32m     14\u001b[0m                    \u001b[0;34m\"longitude) \"\u001b[0m \u001b[0;34m+\u001b[0m\u001b[0;34m\u001b[0m\u001b[0m\n\u001b[1;32m     15\u001b[0m                    \u001b[0;34m\"VALUES (%s, %s, %s, %s, %s)\"\u001b[0m\u001b[0;34m,\u001b[0m\u001b[0;34m\u001b[0m\u001b[0m\n\u001b[0;32m---> 16\u001b[0;31m                    (i, name.encode(\"utf8\"), sid, lat, lon))\n\u001b[0m\u001b[1;32m     17\u001b[0m \u001b[0mconnection\u001b[0m\u001b[0;34m.\u001b[0m\u001b[0mcommit\u001b[0m\u001b[0;34m(\u001b[0m\u001b[0;34m)\u001b[0m\u001b[0;34m\u001b[0m\u001b[0m\n\u001b[1;32m     18\u001b[0m \u001b[0mstnfle\u001b[0m\u001b[0;34m.\u001b[0m\u001b[0mclose\u001b[0m\u001b[0;34m(\u001b[0m\u001b[0;34m)\u001b[0m\u001b[0;34m\u001b[0m\u001b[0m\n",
      "\u001b[0;31mIntegrityError\u001b[0m: duplicate key value violates unique constraint \"stations_pkey\"\nDETAIL:  Key (id)=(145) already exists.\n"
     ]
    }
   ],
   "source": [
    "stations = json.load(stnfile)[u'RECORDS']\n",
    "\n",
    "for statn in stations:\n",
    "    i = int(statn[u'id'])\n",
    "    lat = float(statn[u'latitude'])\n",
    "    lon = float(statn[u'longitude'])\n",
    "    name = statn[u'name']\n",
    "    sid = int(statn[u'subnetwork_id'])\n",
    "    #print (i, name, sid, lat, lon)\n",
    "    cursor.execute(\"INSERT INTO bicincitta.stations (id,\" +\n",
    "                   \"name,\" + \n",
    "                   \"subnetwork_id,\" + \n",
    "                   \"latitude,\" + \n",
    "                   \"longitude) \" + \n",
    "                   \"VALUES (%s, %s, %s, %s, %s)\",\n",
    "                   (i, name.encode(\"utf8\"), sid, lat, lon))\n",
    "connection.commit()\n",
    "stnfle.close()"
   ]
  },
  {
   "cell_type": "code",
   "execution_count": 118,
   "metadata": {
    "collapsed": false
   },
   "outputs": [],
   "source": [
    "userfile =  file(os.path.join(bikedatapath, \"users.json\"), \"r\")        \n",
    "users = json.load(userfile)[u'RECORDS']\n",
    "userfile.close()\n",
    "\n",
    "connection = psycopg2.connect(\"dbname=publibike_db user=publibike_user\")\n",
    "cursor = connection.cursor()\n",
    "cursor.execute(\"DELETE FROM bicincitta.users\")\n",
    "\n",
    "for user in users:\n",
    "    adr = user[u'address']\n",
    "    exp = user[u'expires']\n",
    "    exp = None if exp == \"\" else exp\n",
    "    gnd = user[u'gender']\n",
    "    i = int(user[u'id'])\n",
    "    pc = user[u'postal_code']\n",
    "    sid = int(user[u'subnetwork_id'])\n",
    "    if sid != 2005 and sid != 2011:\n",
    "        cursor.execute(\"INSERT INTO bicincitta.users (id, \"+\n",
    "                                                      \"subnetwork_id,\"+\n",
    "                                                      \"gender,\"+\n",
    "                                                      \"postal_code,\"+\n",
    "                                                      \"address,\"+\n",
    "                                                      \"expires)\"+\n",
    "                       \"VALUES(%s, %s, %s, %s, %s, %s)\",\n",
    "                       (i, sid, gnd, pc, adr, exp))\n",
    "connection.commit()\n",
    "                   \n",
    "    "
   ]
  },
  {
   "cell_type": "code",
   "execution_count": 119,
   "metadata": {
    "collapsed": false
   },
   "outputs": [
    {
     "data": {
      "text/plain": [
       "83874"
      ]
     },
     "execution_count": 119,
     "metadata": {},
     "output_type": "execute_result"
    }
   ],
   "source": [
    "len(users)"
   ]
  },
  {
   "cell_type": "code",
   "execution_count": 112,
   "metadata": {
    "collapsed": false
   },
   "outputs": [],
   "source": [
    "u2005 = [ u for u in users if u['subnetwork_id'] == u'2005']\n",
    "u2005ids = set([u['id'] for u in u2005])\n",
    "u2011 = [ u for u in users if u['subnetwork_id'] == u'2011']\n",
    "u2011ids = set([u['id'] for u in u2011])\n",
    "uidsvalid = set([u['id'] for u in users]).difference( u2005ids.union(u2011ids))\n",
    "usids = set([u['subnetwork_id'] for u in users])\n",
    "ssids = set([s['subnetwork_id'] for s in stations])"
   ]
  },
  {
   "cell_type": "code",
   "execution_count": 115,
   "metadata": {
    "collapsed": false
   },
   "outputs": [],
   "source": [
    "trxn2005 = [ trxn for trxn in trxns if trxn[u'user_id'] in  u2005ids]\n",
    "trxn2011 = [ trxn for trxn in trxns if trxn[u'user_id'] in  u2011ids]\n",
    "trxnvalid = [trxn for trxn in trxns if trxn[u'user_id'] in uidsvalid]"
   ]
  },
  {
   "cell_type": "code",
   "execution_count": 117,
   "metadata": {
    "collapsed": false
   },
   "outputs": [
    {
     "data": {
      "text/plain": [
       "291134"
      ]
     },
     "execution_count": 117,
     "metadata": {},
     "output_type": "execute_result"
    }
   ],
   "source": [
    "len(trxns)"
   ]
  },
  {
   "cell_type": "code",
   "execution_count": 120,
   "metadata": {
    "collapsed": false
   },
   "outputs": [],
   "source": [
    "trxnfile =  file(os.path.join(bikedatapath, \"transactions.json\"), \"r\") \n",
    "trxns = json.load(trxnfile)[u'RECORDS']\n",
    "trxnfile.close()\n",
    "\n",
    "connection = psycopg2.connect(\"dbname=publibike_db user=publibike_user\")\n",
    "cursor = connection.cursor()\n",
    "cursor.execute(\"DELETE FROM bicincitta.transactions\")\n",
    "for trxn in trxns:\n",
    "    drxn = \"OUT\" if (trxn[u'direction'] == \"check_out\") else \"IN\"\n",
    "    i = int(trxn[u'id'])\n",
    "    t = trxn[u'event_time']\n",
    "    uid = int(trxn[u'user_id'])\n",
    "    sid = int(trxn[u'station_id'])\n",
    "    cursor.execute( \"INSERT INTO bicincitta.transactions ( id, \" + \n",
    "                                                           \"timestamp,\" +\n",
    "                                                           \"user_id,\" +\n",
    "                                                           \"station_id,\" + \n",
    "                                                           \"direction)\" +\n",
    "                   \"VALUES (%s, %s, %s, %s, %s)\",\n",
    "                   (i, t, uid, sid, drxn))\n",
    "connection.commit()\n",
    "                                                            "
   ]
  },
  {
   "cell_type": "code",
   "execution_count": 121,
   "metadata": {
    "collapsed": false
   },
   "outputs": [
    {
     "data": {
      "text/plain": [
       "291134"
      ]
     },
     "execution_count": 121,
     "metadata": {},
     "output_type": "execute_result"
    }
   ],
   "source": [
    "len(trxns)"
   ]
  },
  {
   "cell_type": "code",
   "execution_count": null,
   "metadata": {
    "collapsed": true
   },
   "outputs": [],
   "source": []
  }
 ],
 "metadata": {
  "kernelspec": {
   "display_name": "Python 2",
   "language": "python",
   "name": "python2"
  },
  "language_info": {
   "codemirror_mode": {
    "name": "ipython",
    "version": 2
   },
   "file_extension": ".py",
   "mimetype": "text/x-python",
   "name": "python",
   "nbconvert_exporter": "python",
   "pygments_lexer": "ipython2",
   "version": "2.7.9"
  }
 },
 "nbformat": 4,
 "nbformat_minor": 0
}
