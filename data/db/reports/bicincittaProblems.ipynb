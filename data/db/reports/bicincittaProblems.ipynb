{
 "cells": [
  {
   "cell_type": "markdown",
   "metadata": {},
   "source": [
    "# Problems in the Bicincitta data set from 2013\n",
    "\n",
    "There are problems with the Bicincitta data that we need to address before loading the data into a reliable and proper data-base. We will point out these problems using examples, and measure their magnitude using systematic analysis, and then speculate about the cause behind these problems.\n"
   ]
  },
  {
   "cell_type": "markdown",
   "metadata": {},
   "source": [
    "## Data\n",
    "We load the data from JSONs provided to us by Bicincitta at the end of April 2015. \n"
   ]
  },
  {
   "cell_type": "code",
   "execution_count": 142,
   "metadata": {
    "collapsed": false
   },
   "outputs": [],
   "source": [
    "import os\n",
    "import json\n",
    "import pandas as pd\n",
    "import matplotlib\n",
    "import matplotlib.pyplot as plt\n",
    "from string import *\n",
    "plt.style.use('ggplot')\n",
    "%matplotlib inline\n",
    "import numpy as np\n",
    "\n",
    "#because the strings in the jsons are web-quoted we will need to unquote them\n",
    "import urllib\n",
    "\n",
    "bikedatapath = os.path.join(\"../Bicincitta_Drop\", \"datasets_2013\")\n",
    "stnfile = file(os.path.join(bikedatapath, \"stations.json\"), \"r\")\n",
    "subnetfile =  file(os.path.join(bikedatapath, \"subnetworks.json\"), \"r\")             \n",
    "userfile =  file(os.path.join(bikedatapath, \"users.json\"), \"r\")                       \n",
    "trxnfile =  file(os.path.join(bikedatapath, \"transactions.json\"), \"r\")                       \n",
    "\n",
    "subnets = json.load(subnetfile)[u'RECORDS']\n",
    "subnetfile.close()\n",
    "stations = json.load(stnfile)[u'RECORDS']\n",
    "stnfile.close()\n",
    "users = json.load(userfile)[u'RECORDS']\n",
    "userfile.close()\n",
    "trxns = json.load(trxnfile)[u'RECORDS']\n",
    "trxnfile.close()"
   ]
  },
  {
   "cell_type": "markdown",
   "metadata": {},
   "source": [
    "The resulting data is in the form of lists of dictionaries. "
   ]
  },
  {
   "cell_type": "code",
   "execution_count": 2,
   "metadata": {
    "collapsed": false
   },
   "outputs": [
    {
     "name": "stdout",
     "output_type": "stream",
     "text": [
      "a subnetwork is described by, \n",
      "\tid\n",
      "\tname\n",
      "\n",
      " a station is described by,\n",
      "\tlatitude\n",
      "\tname\n",
      "\tid\n",
      "\tlongitude\n",
      "\tsubnetwork_id\n",
      "\n",
      " a user is described by \n",
      "\tsubnetwork_id\n",
      "\tgender\n",
      "\texpires\n",
      "\tpostal_code\n",
      "\taddress\n",
      "\tid\n",
      "\n",
      " a transaction is described by, \n",
      "\tdirection\n",
      "\tuser_id\n",
      "\tevent_time\n",
      "\tcreated_at\n",
      "\tupdated_at\n",
      "\tstation_id\n",
      "\tid\n"
     ]
    }
   ],
   "source": [
    "print \"a subnetwork is described by, \"\n",
    "for k in subnets[0].keys():\n",
    "    print \"\\t\", k\n",
    "print \"\\n a station is described by,\" \n",
    "for k in stations[0].keys():\n",
    "    print \"\\t\", k\n",
    "    \n",
    "print \"\\n a user is described by \"\n",
    "for k in users[0].keys():\n",
    "    print \"\\t\", k\n",
    "    \n",
    "print \"\\n a transaction is described by, \" \n",
    "for k in trxns[0].keys():\n",
    "    print \"\\t\", k"
   ]
  },
  {
   "cell_type": "markdown",
   "metadata": {},
   "source": [
    "The resulting dictionaries have ids that are UTF-8 strings. We change these to integers to make our work easier.  The addersses in the user data are web-quotes, which we need to *unquote*. We will also unquote the station names, just to be safe.  There are keys in a transaction that do not seem to correspond to the data, but refer to the time at which the data was loaded into the JSON provided to us.We will drop these variables, and change the *event_time* to a time object. "
   ]
  },
  {
   "cell_type": "code",
   "execution_count": 128,
   "metadata": {
    "collapsed": false
   },
   "outputs": [],
   "source": [
    "for sn in subnets:\n",
    "    sn['id'] = int(sn['id'])\n",
    "    \n",
    "for st in stations:\n",
    "    st['id'] = int(st['id'])\n",
    "    st['subnetwork_id'] = int(st['subnetwork_id'])\n",
    "    st['name'] = urllib.unquote_plus(st['name'])    \n",
    "    \n",
    "for u in users:\n",
    "    u['subnetwork_id'] = int(u['subnetwork_id'])\n",
    "    u['id'] = int(u['id'])\n",
    "    u['address'] = urllib.unquote_plus(u[u'address'])\n",
    "    \n",
    "for t in trxns:\n",
    "    t['id'] = int(t['id'])\n",
    "    t['station_id'] = int(t['station_id'])\n",
    "    t['user_id'] = int(t['user_id'])\n",
    "    \n"
   ]
  },
  {
   "cell_type": "code",
   "execution_count": 129,
   "metadata": {
    "collapsed": false
   },
   "outputs": [],
   "source": [
    "from datetime import datetime\n",
    "\n",
    "trxns = [ {u'direction': t[u'direction'],\n",
    "           u'user_id': t[u'user_id'],\n",
    "           u'event_time': datetime.strptime(t[u'event_time'],\n",
    "                                            \"%m/%d/%Y %H:%M:%S\"),\n",
    "           u'station_id': t[u'station_id'],\n",
    "           u'id': t[u'id']}\n",
    "         for t in trxns]\n",
    "\n",
    "trxns = sorted(trxns, key = lambda t: t[u'event_time'])"
   ]
  },
  {
   "cell_type": "markdown",
   "metadata": {},
   "source": []
  },
  {
   "cell_type": "code",
   "execution_count": 13,
   "metadata": {
    "collapsed": false
   },
   "outputs": [],
   "source": [
    "#We also sort the subnetworks and stations by their *id*.\n",
    "subnets = sorted(subnets, key = lambda s: s[u'id'])\n",
    "stations = sorted(stations, key = lambda s:s[u'id'])"
   ]
  },
  {
   "cell_type": "code",
   "execution_count": 130,
   "metadata": {
    "collapsed": false
   },
   "outputs": [],
   "source": [
    "#Stations and users have been assigned a *subnetwork_id* in the data. \n",
    "#We can add the subnetwork name to these data,\n",
    "\n",
    "for s in stations:\n",
    "    s[u'subnetwork_name'] = subnets[s['subnetwork_id'] - 1][u'name']\n",
    "\n",
    "for u in users:\n",
    "    i = u['subnetwork_id'] - 1\n",
    "    if i < len(subnets):\n",
    "        u[u'subnetwork_name'] = subnets[i][u'name']\n",
    "    else:\n",
    "        u[u'subnetwork_name'] = u'unknown'"
   ]
  },
  {
   "cell_type": "code",
   "execution_count": 135,
   "metadata": {
    "collapsed": false
   },
   "outputs": [
    {
     "data": {
      "text/html": [
       "<div style=\"max-height:1000px;max-width:1500px;overflow:auto;\">\n",
       "<table border=\"1\" class=\"dataframe\">\n",
       "  <thead>\n",
       "    <tr style=\"text-align: right;\">\n",
       "      <th></th>\n",
       "      <th>id</th>\n",
       "      <th>name</th>\n",
       "    </tr>\n",
       "  </thead>\n",
       "  <tbody>\n",
       "    <tr>\n",
       "      <th>0 </th>\n",
       "      <td>  1</td>\n",
       "      <td>           La Cote</td>\n",
       "    </tr>\n",
       "    <tr>\n",
       "      <th>11</th>\n",
       "      <td>  2</td>\n",
       "      <td>    Agglo Fribourg</td>\n",
       "    </tr>\n",
       "    <tr>\n",
       "      <th>1 </th>\n",
       "      <td>  3</td>\n",
       "      <td>             Bulle</td>\n",
       "    </tr>\n",
       "    <tr>\n",
       "      <th>2 </th>\n",
       "      <td>  4</td>\n",
       "      <td>   Les Lacs-Romont</td>\n",
       "    </tr>\n",
       "    <tr>\n",
       "      <th>3 </th>\n",
       "      <td>  5</td>\n",
       "      <td>              Bâle</td>\n",
       "    </tr>\n",
       "    <tr>\n",
       "      <th>15</th>\n",
       "      <td>  6</td>\n",
       "      <td>          Chablais</td>\n",
       "    </tr>\n",
       "    <tr>\n",
       "      <th>14</th>\n",
       "      <td>  7</td>\n",
       "      <td>    Valais Central</td>\n",
       "    </tr>\n",
       "    <tr>\n",
       "      <th>12</th>\n",
       "      <td>  8</td>\n",
       "      <td> Yverdon-les-Bains</td>\n",
       "    </tr>\n",
       "    <tr>\n",
       "      <th>16</th>\n",
       "      <td>  9</td>\n",
       "      <td>   Lausanne-Morges</td>\n",
       "    </tr>\n",
       "    <tr>\n",
       "      <th>5 </th>\n",
       "      <td> 10</td>\n",
       "      <td>            Campus</td>\n",
       "    </tr>\n",
       "    <tr>\n",
       "      <th>17</th>\n",
       "      <td> 11</td>\n",
       "      <td>           Riviera</td>\n",
       "    </tr>\n",
       "    <tr>\n",
       "      <th>13</th>\n",
       "      <td> 12</td>\n",
       "      <td>   Lugano-Paradiso</td>\n",
       "    </tr>\n",
       "    <tr>\n",
       "      <th>4 </th>\n",
       "      <td> 13</td>\n",
       "      <td>         PubliBike</td>\n",
       "    </tr>\n",
       "    <tr>\n",
       "      <th>10</th>\n",
       "      <td> 14</td>\n",
       "      <td>             Vevey</td>\n",
       "    </tr>\n",
       "    <tr>\n",
       "      <th>6 </th>\n",
       "      <td> 15</td>\n",
       "      <td>            Morges</td>\n",
       "    </tr>\n",
       "    <tr>\n",
       "      <th>7 </th>\n",
       "      <td> 16</td>\n",
       "      <td>             Ouchy</td>\n",
       "    </tr>\n",
       "    <tr>\n",
       "      <th>8 </th>\n",
       "      <td> 17</td>\n",
       "      <td>          Paradiso</td>\n",
       "    </tr>\n",
       "    <tr>\n",
       "      <th>9 </th>\n",
       "      <td> 18</td>\n",
       "      <td>              Cern</td>\n",
       "    </tr>\n",
       "  </tbody>\n",
       "</table>\n",
       "</div>"
      ],
      "text/plain": [
       "    id               name\n",
       "0    1            La Cote\n",
       "11   2     Agglo Fribourg\n",
       "1    3              Bulle\n",
       "2    4    Les Lacs-Romont\n",
       "3    5               Bâle\n",
       "15   6           Chablais\n",
       "14   7     Valais Central\n",
       "12   8  Yverdon-les-Bains\n",
       "16   9    Lausanne-Morges\n",
       "5   10             Campus\n",
       "17  11            Riviera\n",
       "13  12    Lugano-Paradiso\n",
       "4   13          PubliBike\n",
       "10  14              Vevey\n",
       "6   15             Morges\n",
       "7   16              Ouchy\n",
       "8   17           Paradiso\n",
       "9   18               Cern"
      ]
     },
     "execution_count": 135,
     "metadata": {},
     "output_type": "execute_result"
    }
   ],
   "source": [
    "subnets_db = pd.DataFrame(subnets)\n",
    "subnets_db.sort( ['id'])"
   ]
  },
  {
   "cell_type": "markdown",
   "metadata": {},
   "source": [
    "##Who are the users?\n",
    "\n",
    "The simplest question may be the fraction of females vs males,"
   ]
  },
  {
   "cell_type": "code",
   "execution_count": 15,
   "metadata": {
    "collapsed": false
   },
   "outputs": [
    {
     "name": "stdout",
     "output_type": "stream",
     "text": [
      "Of all the users  60  percent are female  and  39  percent males.\n"
     ]
    }
   ],
   "source": [
    "numFemales = 1.*sum(u['gender'] == \"F\" for u in users)\n",
    "numMales = 1.*sum(u['gender'] == \"M\" for u in users)\n",
    "\n",
    "print \"Of all the users \", int(100*numFemales/len(users)), \" percent are female \", \\\n",
    "\"and \", int(100*numMales/len(users)), \" percent males.\""
   ]
  },
  {
   "cell_type": "markdown",
   "metadata": {},
   "source": [
    "It would be interesting if 60% of the users were in fact female. However, as we will see later there seems to be a problem of user duplicacy biased towards females. "
   ]
  },
  {
   "cell_type": "markdown",
   "metadata": {},
   "source": [
    "## Subnetworks for stations users, and transactions\n",
    "\n",
    "We have a data table for subnetworks, which contains the subnetwork's id and name. Both users and stations have been assigned a *subnetwork_id* which should be an integer pointing to the *id* variable in the subnetwork table.  We would expect all the subnetworks in this table to be conceptually equivalent.  Thus the subnetworks *PubliBike* and *Campus* should refer to the same concept of a subnetwork. However a peek at the data hints against this assumption. **It seems that there are two distinct concepts of a subnetwork in the subnetwork table.** There are several lines of evidence leading us to this conclusion.\n",
    "\n",
    "First of all, only 11 of the 18 subnetworks have a station assigned to them, and 7 have no stations (see table in the appendix)."
   ]
  },
  {
   "cell_type": "code",
   "execution_count": 16,
   "metadata": {
    "collapsed": false
   },
   "outputs": [],
   "source": [
    "stn_sns = set( [s[u'subnetwork_id'] for s in stations] )\n",
    "subnetsWithStns = [ s for s in subnets if s[u'id'] in stn_sns]\n",
    "#print \"Subnetworks that have stations assigned to them\"\n",
    "#pd.DataFrame(subnetsWithStns)"
   ]
  },
  {
   "cell_type": "code",
   "execution_count": 17,
   "metadata": {
    "collapsed": false
   },
   "outputs": [],
   "source": [
    "subnetsWithoutStns = [ s for s in subnets if s[u'id'] not in stn_sns]\n",
    "#print \"Subnetworks without any assigned stations\"\n",
    "#pd.DataFrame(subnetsWithoutStns)"
   ]
  },
  {
   "cell_type": "markdown",
   "metadata": {},
   "source": [
    "While none of the stations have been assigned the subnetwork, most of the users are in subnetwork PubliBike,"
   ]
  },
  {
   "cell_type": "code",
   "execution_count": 18,
   "metadata": {
    "collapsed": false
   },
   "outputs": [
    {
     "name": "stdout",
     "output_type": "stream",
     "text": [
      "Number of users from subnetwork PubliBike is 58927\n"
     ]
    }
   ],
   "source": [
    "users_pub = [u for u in users if u[u'subnetwork_id'] == 13]\n",
    "print \"Number of users from subnetwork PubliBike is\", len(users_pub)"
   ]
  },
  {
   "cell_type": "markdown",
   "metadata": {},
   "source": [
    "The subnetworks thus appear to mean two different things: \n",
    "\n",
    "1. a geographic subnetwork that has stations\n",
    "\n",
    "2. an administrative subnetwork that is assigned to a user when she signs up."
   ]
  },
  {
   "cell_type": "code",
   "execution_count": 19,
   "metadata": {
    "collapsed": false
   },
   "outputs": [],
   "source": [
    "user_sns = set(u['subnetwork_id'] for u in users)\n",
    "\n",
    "users_d = { u[u'id']: u for u in users}\n",
    "\n",
    "subnetsWithUsers = [ s for s in subnets if s[u'id'] in user_sns]\n",
    "\n",
    "#print \"subnetworks assigned to users\"\n",
    "#pd.DataFrame(subnetsWithUsers)"
   ]
  },
  {
   "cell_type": "code",
   "execution_count": 20,
   "metadata": {
    "collapsed": false
   },
   "outputs": [],
   "source": [
    "#print \"subnets without any users\"\n",
    "subnetsWithoutUsers = [ s for s in subnets if s[u'id'] not in user_sns]\n",
    "#pd.DataFrame(subnetsWithoutUsers)"
   ]
  },
  {
   "cell_type": "code",
   "execution_count": 21,
   "metadata": {
    "collapsed": false
   },
   "outputs": [],
   "source": [
    "#print \"subnets with stations as well as users\"\n",
    "subnetsValid = [s for s in subnets if s[u'id'] in user_sns and s[u'id'] in stn_sns]\n",
    "#pd.DataFrame(subnetsValid)"
   ]
  },
  {
   "cell_type": "code",
   "execution_count": 22,
   "metadata": {
    "collapsed": false
   },
   "outputs": [
    {
     "ename": "NameError",
     "evalue": "name 'user_sns_list' is not defined",
     "output_type": "error",
     "traceback": [
      "\u001b[0;31m---------------------------------------------------------------------------\u001b[0m",
      "\u001b[0;31mNameError\u001b[0m                                 Traceback (most recent call last)",
      "\u001b[0;32m<ipython-input-22-9df75453a8c7>\u001b[0m in \u001b[0;36m<module>\u001b[0;34m()\u001b[0m\n\u001b[1;32m      8\u001b[0m                     \u001b[0;34mu'name'\u001b[0m\u001b[0;34m:\u001b[0m \u001b[0mall_sns_names\u001b[0m\u001b[0;34m[\u001b[0m\u001b[0mi\u001b[0m\u001b[0;34m]\u001b[0m\u001b[0;34m,\u001b[0m\u001b[0;34m\u001b[0m\u001b[0m\n\u001b[1;32m      9\u001b[0m                     u'numUsers': user_sns_list.count(i)}\n\u001b[0;32m---> 10\u001b[0;31m                    for i in all_sns]\n\u001b[0m\u001b[1;32m     11\u001b[0m \u001b[0msubnet_numUsers\u001b[0m \u001b[0;34m=\u001b[0m \u001b[0msorted\u001b[0m\u001b[0;34m(\u001b[0m\u001b[0msubnet_numUsers\u001b[0m\u001b[0;34m,\u001b[0m \u001b[0mkey\u001b[0m\u001b[0;34m=\u001b[0m\u001b[0;32mlambda\u001b[0m \u001b[0ms\u001b[0m\u001b[0;34m:\u001b[0m \u001b[0ms\u001b[0m\u001b[0;34m[\u001b[0m\u001b[0;34mu'numUsers'\u001b[0m\u001b[0;34m]\u001b[0m \u001b[0;34m)\u001b[0m\u001b[0;34m\u001b[0m\u001b[0m\n\u001b[1;32m     12\u001b[0m \u001b[0;34m\u001b[0m\u001b[0m\n",
      "\u001b[0;31mNameError\u001b[0m: name 'user_sns_list' is not defined"
     ]
    }
   ],
   "source": [
    "#As a summary, let us tabulate the fraction of users in each of the subnets,\n",
    "\n",
    "all_sns = list(set(s['id'] for s in subnets).union(set(u['subnetwork_id'] for u in users)))\n",
    "all_sns_names = {i: subnets[i - 1][u'name'] if i <= len(subnets) \n",
    "                                             else 'unknown'\n",
    "                  for  i in all_sns}\n",
    "subnet_numUsers = [{u'id': i,\n",
    "                    u'name': all_sns_names[i],\n",
    "                    u'numUsers': user_sns_list.count(i)}\n",
    "                   for i in all_sns]\n",
    "subnet_numUsers = sorted(subnet_numUsers, key=lambda s: s[u'numUsers'] )\n",
    "\n",
    "#pd.DataFrame(subnet_numUsers)"
   ]
  },
  {
   "cell_type": "code",
   "execution_count": null,
   "metadata": {
    "collapsed": false
   },
   "outputs": [],
   "source": [
    "sn_nu = pd.DataFrame(subnet_numUsers)[  ['name', 'numUsers']] \n",
    "sn_nu.index = sn_nu.name\n",
    "#sn_nu.plot(kind=\"barh\")"
   ]
  },
  {
   "cell_type": "markdown",
   "metadata": {},
   "source": [
    "So we assign each transaction an administrative and a geographic subnetwork. The administrative subnetwork is the subnetwork that the user of the transaction has been assigned, and the geographic subnetwork is the subnetwork that the station of the transaction has been assigned. So administratively, all the transactions are in PubliBike, while geographically they are in 11 different subnetworks. In the appendix we present a table for subnetworks, showing the number of transactions that fall in a subnetwork, both administratively and geographically, along with the number of users.\n",
    "\n",
    "Looking at the actual number of users who have registered a transaction makes us question the validity of the user data base. "
   ]
  },
  {
   "cell_type": "markdown",
   "metadata": {},
   "source": [
    "With only 10% users with registered  transactions, where are the remaining 90% users from ? Are they left-overs from previous versions of the system? Or is there an error in the database? Additionally, all the users with the transactions have been assigned the subnetwork *PubliBike*. "
   ]
  },
  {
   "cell_type": "code",
   "execution_count": null,
   "metadata": {
    "collapsed": false
   },
   "outputs": [],
   "source": [
    "user_sns_list = [u['subnetwork_id'] for u in users]\n",
    "trxn_user_subnets = [users_d[t[u'user_id']] [u'subnetwork_id'] for t in trxns]\n",
    "#print \"The subnetworks of the users who make transactions make a\", set(trxn_user_subnets)"
   ]
  },
  {
   "cell_type": "code",
   "execution_count": 23,
   "metadata": {
    "collapsed": false
   },
   "outputs": [],
   "source": [
    "stations_d = { s[u'id']: s for s in stations}\n",
    "trxn_stn_subnets = [ stations_d[t[u'station_id']] [u'subnetwork_id'] for t in trxns ]"
   ]
  },
  {
   "cell_type": "code",
   "execution_count": 124,
   "metadata": {
    "collapsed": false
   },
   "outputs": [
    {
     "ename": "NameError",
     "evalue": "name 'user_sns_list' is not defined",
     "output_type": "error",
     "traceback": [
      "\u001b[0;31m---------------------------------------------------------------------------\u001b[0m",
      "\u001b[0;31mNameError\u001b[0m                                 Traceback (most recent call last)",
      "\u001b[0;32m<ipython-input-124-fc34b63b906b>\u001b[0m in \u001b[0;36m<module>\u001b[0;34m()\u001b[0m\n\u001b[1;32m     11\u001b[0m                 u'numTrxns_admin': trxn_user_subnets.count(i) }\n\u001b[1;32m     12\u001b[0m \u001b[0;34m\u001b[0m\u001b[0m\n\u001b[0;32m---> 13\u001b[0;31m                    for i in all_sns]\n\u001b[0m\u001b[1;32m     14\u001b[0m \u001b[0msubnet_nums\u001b[0m \u001b[0;34m=\u001b[0m \u001b[0msorted\u001b[0m\u001b[0;34m(\u001b[0m\u001b[0msubnet_nums\u001b[0m\u001b[0;34m,\u001b[0m \u001b[0mkey\u001b[0m\u001b[0;34m=\u001b[0m\u001b[0;32mlambda\u001b[0m \u001b[0ms\u001b[0m\u001b[0;34m:\u001b[0m \u001b[0ms\u001b[0m\u001b[0;34m[\u001b[0m\u001b[0;34mu'numUsers'\u001b[0m\u001b[0;34m]\u001b[0m \u001b[0;34m)\u001b[0m\u001b[0;34m\u001b[0m\u001b[0m\n\u001b[1;32m     15\u001b[0m \u001b[0msubnet_nums_df\u001b[0m \u001b[0;34m=\u001b[0m \u001b[0mpd\u001b[0m\u001b[0;34m.\u001b[0m\u001b[0mDataFrame\u001b[0m\u001b[0;34m(\u001b[0m\u001b[0msubnet_nums\u001b[0m\u001b[0;34m)\u001b[0m\u001b[0;34m\u001b[0m\u001b[0m\n",
      "\u001b[0;31mNameError\u001b[0m: name 'user_sns_list' is not defined"
     ]
    }
   ],
   "source": [
    "all_sns = list(set(s['id'] for s in subnets).union(set(u['subnetwork_id'] for u in users)))\n",
    "all_sns_names = {i: subnets[i - 1][u'name'] if i <= len(subnets) \n",
    "                                             else 'unknown'\n",
    "                  for  i in all_sns}\n",
    "stn_sns = [ s[u'subnetwork_id'] for s in stations]\n",
    "subnet_nums = [{u'id': i,\n",
    "                u'name': all_sns_names[i],\n",
    "                u'numStations': stn_sns.count(i),\n",
    "                u'numUsers': user_sns_list.count(i),\n",
    "                u'numTrxns_geo': trxn_stn_subnets.count(i),\n",
    "                u'numTrxns_admin': trxn_user_subnets.count(i) }\n",
    "               \n",
    "                   for i in all_sns]\n",
    "subnet_nums = sorted(subnet_nums, key=lambda s: s[u'numUsers'] )\n",
    "subnet_nums_df = pd.DataFrame(subnet_nums)\n",
    "subnet_nums_df.index = subnet_nums_df.name\n"
   ]
  },
  {
   "cell_type": "code",
   "execution_count": 25,
   "metadata": {
    "collapsed": false
   },
   "outputs": [
    {
     "ename": "NameError",
     "evalue": "name 'subnet_nums_df' is not defined",
     "output_type": "error",
     "traceback": [
      "\u001b[0;31m---------------------------------------------------------------------------\u001b[0m",
      "\u001b[0;31mNameError\u001b[0m                                 Traceback (most recent call last)",
      "\u001b[0;32m<ipython-input-25-3ad8bafb5553>\u001b[0m in \u001b[0;36m<module>\u001b[0;34m()\u001b[0m\n\u001b[1;32m      1\u001b[0m \u001b[0;34m\u001b[0m\u001b[0m\n\u001b[0;32m----> 2\u001b[0;31m subnet_nums_df[[\"numUsers\"]].plot(kind=\"barh\", \n\u001b[0m\u001b[1;32m      3\u001b[0m                                   \u001b[0mfigsize\u001b[0m\u001b[0;34m=\u001b[0m\u001b[0;34m(\u001b[0m\u001b[0;36m12\u001b[0m\u001b[0;34m,\u001b[0m\u001b[0;36m8\u001b[0m\u001b[0;34m)\u001b[0m\u001b[0;34m,\u001b[0m\u001b[0;34m\u001b[0m\u001b[0m\n\u001b[1;32m      4\u001b[0m                                   title=\"Histogram for the number of users in a subnetwork\")\n\u001b[1;32m      5\u001b[0m \u001b[0;34m\u001b[0m\u001b[0m\n",
      "\u001b[0;31mNameError\u001b[0m: name 'subnet_nums_df' is not defined"
     ]
    }
   ],
   "source": [
    "\n",
    "subnet_nums_df[[\"numUsers\"]].plot(kind=\"barh\", \n",
    "                                  figsize=(12,8), \n",
    "                                  title=\"Histogram for the number of users in a subnetwork\")\n",
    "\n",
    "subnet_nums_df[[\"numTrxns_admin\"]].plot(kind=\"barh\",  \n",
    "                                        figsize=(12,8),\n",
    "                                        title=\"Histogram for the number of transactions \" + \\\n",
    "                                              \"in an administrative subnetwork\")\n",
    "\n",
    "subnet_nums_df[[\"numTrxns_geo\"]].plot(kind=\"barh\", \n",
    "                                      figsize=(12,8),\n",
    "                                      title=\"Histogram for the number of transactions \" + \\\n",
    "                                             \"in a geographic subnetwork\")"
   ]
  },
  {
   "cell_type": "markdown",
   "metadata": {},
   "source": [
    "## User addresses \n",
    "\n",
    "There are several problems associated with user addresses. We have already noticed, and fixed, that the provided addresses in the JSON have not been *unquoted* from their web encoding. Here we continue to explore other problems that may arise in the addresses.\n",
    "\n",
    "We want to count the number of users at one address. Because the addresses have been provided as strings, we have to be able to aggregate all address strings that describe the same address. We have written a python function to do this task, which takes the address and postal-code strings to provide a combined string taking into account some empirical disambiguation criteria such as *Av, Ave*, for *Avenue*. \n",
    "\n",
    "Addresses are not available for all the users."
   ]
  },
  {
   "cell_type": "code",
   "execution_count": 26,
   "metadata": {
    "collapsed": false
   },
   "outputs": [
    {
     "name": "stdout",
     "output_type": "stream",
     "text": [
      "Number of users with available address 21659  of which only  15446  unique\n"
     ]
    }
   ],
   "source": [
    "users_with_adr = [u for u in users if u[u'address'] != '']\n",
    "def addressWithZip(a, z):\n",
    "    #some zip codes have 5 figures, clearly wrong for CH\n",
    "    if type(z) != str: z = str(z)\n",
    "    try:\n",
    "        z = \"\".join(list(z)[0:4]).encode(\"utf-8\")\n",
    "    except:\n",
    "        z = \"\"\n",
    "    az = (strip(a) + \"; \" + strip(z)).lower()\n",
    "    az = az.replace(\"av \", \"avenue \").replace(\"ch \", \"chemin \")\n",
    "    az = az.replace(\"ch. \", \"chemin \").replace(\"av. \", \"avenue \").encode(\"utf-8\")\n",
    "    return az.replace(\"ave. \", \"avenue \")\n",
    "    \n",
    "uadr = [addressWithZip(u[u'address'], u[u'postal_code'])\n",
    "        for u in users_with_adr]\n",
    "\n",
    "uuadr = list(set(uadr))\n",
    "print \"Number of users with available address\", len(uadr), \\\n",
    "\" of which only \", len(uuadr), \" unique\"\n"
   ]
  },
  {
   "cell_type": "code",
   "execution_count": 27,
   "metadata": {
    "collapsed": false
   },
   "outputs": [],
   "source": [
    "users_byAddr = { a: [] for a in uuadr}\n",
    "\n",
    "for u in users_with_adr:\n",
    "    a = addressWithZip(u[u'address'], u[u'postal_code'])\n",
    "    users_byAddr[a].append( {u'gender': u[u'gender'],\n",
    "                             u'addressOriginal': u[u'address'],\n",
    "                             u'id': u[u'id'],\n",
    "                             u'subnetwork_id': u[u'subnetwork_id'],\n",
    "                             u'expires': u[u'expires']})\n",
    "                                         \n",
    "addr_numUsers = sorted([(k, len(v)) for k, v in users_byAddr.items()], key=lambda (k, l): -l)"
   ]
  },
  {
   "cell_type": "markdown",
   "metadata": {},
   "source": [
    "What fraction of unique addresses have multiple users?"
   ]
  },
  {
   "cell_type": "code",
   "execution_count": 28,
   "metadata": {
    "collapsed": false
   },
   "outputs": [
    {
     "name": "stdout",
     "output_type": "stream",
     "text": [
      "0.230545124951\n"
     ]
    }
   ],
   "source": [
    "print (1.*sum(  l > 1 for k, l in addr_numUsers))/len(addr_numUsers)"
   ]
  },
  {
   "cell_type": "markdown",
   "metadata": {},
   "source": [
    "How many users at addresses with multiple users?"
   ]
  },
  {
   "cell_type": "code",
   "execution_count": 29,
   "metadata": {
    "collapsed": false
   },
   "outputs": [
    {
     "name": "stdout",
     "output_type": "stream",
     "text": [
      "9774\n"
     ]
    }
   ],
   "source": [
    "print sum( l for k, l in addr_numUsers if l > 1)"
   ]
  },
  {
   "cell_type": "markdown",
   "metadata": {},
   "source": [
    "which corresponds to a fraction of all users with available address,"
   ]
  },
  {
   "cell_type": "code",
   "execution_count": 30,
   "metadata": {
    "collapsed": false
   },
   "outputs": [
    {
     "name": "stdout",
     "output_type": "stream",
     "text": [
      "0.451267371531\n"
     ]
    }
   ],
   "source": [
    "print (1.*sum( l for k, l in addr_numUsers if l > 1))/len(users_with_adr)"
   ]
  },
  {
   "cell_type": "markdown",
   "metadata": {},
   "source": [
    "Multiple users at the same address could be actual multiple people, or multiple registrations by the same person, or a database error. We can consider as an example the address with the most multiplicity of 53,"
   ]
  },
  {
   "cell_type": "code",
   "execution_count": 31,
   "metadata": {
    "collapsed": false
   },
   "outputs": [
    {
     "name": "stdout",
     "output_type": "stream",
     "text": [
      "address:  via lambertenghi 1; 6900 , number of users:  53\n"
     ]
    }
   ],
   "source": [
    "print \"address: \", addr_numUsers[0][0], \", number of users: \", addr_numUsers[0][1]\n",
    "#pd.DataFrame(users_byAddr[addr_numUsers[0][0]]).head()  "
   ]
  },
  {
   "cell_type": "markdown",
   "metadata": {},
   "source": [
    "We could say more about the multiple users at the same address if we look at their transactions. However as it turns out, we **do not have addresses for users who have registered transactions in the data**,"
   ]
  },
  {
   "cell_type": "code",
   "execution_count": 32,
   "metadata": {
    "collapsed": false
   },
   "outputs": [],
   "source": [
    "#print( any( users_d[uid][u'address'] != u'' for uid in trxn_users))"
   ]
  },
  {
   "cell_type": "code",
   "execution_count": 33,
   "metadata": {
    "collapsed": false
   },
   "outputs": [],
   "source": [
    "#We can look at the subnetwork with addresses assigned to the *multi* users,\n",
    "users_uniqueAdr = {a: us for a, us in users_byAddr.items()\n",
    "                   if len(us) == 1}\n",
    "\n",
    "users_multiAdr = {a: us for a, us in users_byAddr.items() \n",
    "                  if len(us) > 1}\n",
    "\n",
    "users_multiAdr_sns = [list(set(u[u'subnetwork_id'] for u in us))\n",
    "                      for a, us in users_multiAdr.items()]\n",
    "\n",
    "users_multiAdr_multiSN = { a: us for a, us in users_multiAdr.items()\n",
    "                          if len( set(u[u'subnetwork_id'] for u in us)) > 1}\n",
    "#print \"subnetworks with addresses assigned to multiple users\", set([ s for sns in users_multiAdr_sns for s in sns ])"
   ]
  },
  {
   "cell_type": "code",
   "execution_count": 34,
   "metadata": {
    "collapsed": false,
    "scrolled": true
   },
   "outputs": [],
   "source": [
    "#Some of the multi-user addresses have more than one subnetworks ( through the users at that address) \n",
    "#print \"Subnetworks for users living at addresses with multiple registered users\"\n",
    "subnets_d = {s[u'id']: s for s in subnets}\n",
    "\n",
    "multiAdrMultiSN = []\n",
    "for a, us in users_multiAdr_multiSN.items():\n",
    "    snnames = set(subnets_d[s][u'name'] if subnets_d.has_key(s) else str(s) \n",
    "                  for s in set(u[u'subnetwork_id'] for u in us))\n",
    "    multiAdrMultiSN.append( {u'address': a,\n",
    "                             #u'addressOriginal': us[0]['addressOriginal'],\n",
    "                             u'numFemales': sum(u['gender'] == \"F\" for u in us),\n",
    "                             u'numMales': sum(u['gender'] == \"M\" for u in us),\n",
    "                             u'numUsers': len(us),\n",
    "                             u'subnetworks': snnames})\n",
    "    \n",
    "#print(pd.DataFrame(multiAdrMultiSN).to_string())\n",
    "multiAdrSN_df = pd.DataFrame(multiAdrMultiSN).sort(['numUsers'], ascending=False)\n"
   ]
  },
  {
   "cell_type": "markdown",
   "metadata": {},
   "source": [
    "There are as many as 37 users assigned to the same address that also have more than subnetwork assigned. Addresses with several users might represent problems of multiple subscription. For example, if we look at addresses with more than 10 users, "
   ]
  },
  {
   "cell_type": "markdown",
   "metadata": {},
   "source": [
    "we see that the user is over-whelmingly females. However, a look at the lower end of such addresses seems alright,"
   ]
  },
  {
   "cell_type": "code",
   "execution_count": 35,
   "metadata": {
    "collapsed": false
   },
   "outputs": [
    {
     "data": {
      "text/html": [
       "<div style=\"max-height:1000px;max-width:1500px;overflow:auto;\">\n",
       "<table border=\"1\" class=\"dataframe\">\n",
       "  <thead>\n",
       "    <tr style=\"text-align: right;\">\n",
       "      <th></th>\n",
       "      <th>address</th>\n",
       "      <th>numFemales</th>\n",
       "      <th>numMales</th>\n",
       "      <th>numUsers</th>\n",
       "      <th>subnetworks</th>\n",
       "    </tr>\n",
       "  </thead>\n",
       "  <tbody>\n",
       "    <tr>\n",
       "      <th>3  </th>\n",
       "      <td>              poudrière 24; 1950</td>\n",
       "      <td> 3</td>\n",
       "      <td> 0</td>\n",
       "      <td> 3</td>\n",
       "      <td>  set([Campus, Valais Central])</td>\n",
       "    </tr>\n",
       "    <tr>\n",
       "      <th>61 </th>\n",
       "      <td>        avenue beaulieu 20; 1004</td>\n",
       "      <td> 2</td>\n",
       "      <td> 1</td>\n",
       "      <td> 3</td>\n",
       "      <td> set([Lausanne-Morges, Campus])</td>\n",
       "    </tr>\n",
       "    <tr>\n",
       "      <th>23 </th>\n",
       "      <td> avenue louis-ruchonnet 31; 1003</td>\n",
       "      <td> 2</td>\n",
       "      <td> 1</td>\n",
       "      <td> 3</td>\n",
       "      <td> set([Lausanne-Morges, Campus])</td>\n",
       "    </tr>\n",
       "    <tr>\n",
       "      <th>104</th>\n",
       "      <td>              eichenweg 12; 1718</td>\n",
       "      <td> 2</td>\n",
       "      <td> 1</td>\n",
       "      <td> 3</td>\n",
       "      <td>  set([Agglo Fribourg, Campus])</td>\n",
       "    </tr>\n",
       "    <tr>\n",
       "      <th>67 </th>\n",
       "      <td>      rue saint-rochemin 5; 1004</td>\n",
       "      <td> 2</td>\n",
       "      <td> 1</td>\n",
       "      <td> 3</td>\n",
       "      <td> set([Lausanne-Morges, Campus])</td>\n",
       "    </tr>\n",
       "  </tbody>\n",
       "</table>\n",
       "</div>"
      ],
      "text/plain": [
       "                             address  numFemales  numMales  numUsers  \\\n",
       "3                 poudrière 24; 1950           3         0         3   \n",
       "61          avenue beaulieu 20; 1004           2         1         3   \n",
       "23   avenue louis-ruchonnet 31; 1003           2         1         3   \n",
       "104               eichenweg 12; 1718           2         1         3   \n",
       "67        rue saint-rochemin 5; 1004           2         1         3   \n",
       "\n",
       "                        subnetworks  \n",
       "3     set([Campus, Valais Central])  \n",
       "61   set([Lausanne-Morges, Campus])  \n",
       "23   set([Lausanne-Morges, Campus])  \n",
       "104   set([Agglo Fribourg, Campus])  \n",
       "67   set([Lausanne-Morges, Campus])  "
      ]
     },
     "execution_count": 35,
     "metadata": {},
     "output_type": "execute_result"
    }
   ],
   "source": [
    "multiAdrSN_df[ multiAdrSN_df.numUsers < 4].head()"
   ]
  },
  {
   "cell_type": "markdown",
   "metadata": {},
   "source": [
    "These particular addresses appear sensible. There could be more than one person living at these addresses who have signed up with the bike system, albeit in different subnetworks. Or may be it is the same person with 2 different sign-ups in two different sub-networks. This raises the question: **How are users registered by the system? One individual = one signup? Or does a user need a sign-up for each subnetwork that she wants to use?** If it is the latter, then the provided *user_ids* become less useful, because the same individual will appear as different users according to the *user_ids*. "
   ]
  },
  {
   "cell_type": "code",
   "execution_count": 43,
   "metadata": {
    "collapsed": false
   },
   "outputs": [
    {
     "data": {
      "text/html": [
       "<div style=\"max-height:1000px;max-width:1500px;overflow:auto;\">\n",
       "<table border=\"1\" class=\"dataframe\">\n",
       "  <thead>\n",
       "    <tr style=\"text-align: right;\">\n",
       "      <th></th>\n",
       "      <th>address</th>\n",
       "      <th>numFemales</th>\n",
       "      <th>numMales</th>\n",
       "      <th>numUsers</th>\n",
       "    </tr>\n",
       "  </thead>\n",
       "  <tbody>\n",
       "    <tr>\n",
       "      <th>18  </th>\n",
       "      <td>    via lambertenghi 1; 6900</td>\n",
       "      <td> 52</td>\n",
       "      <td> 1</td>\n",
       "      <td> 53</td>\n",
       "    </tr>\n",
       "    <tr>\n",
       "      <th>2288</th>\n",
       "      <td> chemin des falaises 3; 1005</td>\n",
       "      <td> 52</td>\n",
       "      <td> 0</td>\n",
       "      <td> 52</td>\n",
       "    </tr>\n",
       "    <tr>\n",
       "      <th>1349</th>\n",
       "      <td>  chemin des berges 12; 1022</td>\n",
       "      <td> 41</td>\n",
       "      <td> 0</td>\n",
       "      <td> 41</td>\n",
       "    </tr>\n",
       "    <tr>\n",
       "      <th>2150</th>\n",
       "      <td>    avenue des bains 9; 1007</td>\n",
       "      <td> 37</td>\n",
       "      <td> 0</td>\n",
       "      <td> 37</td>\n",
       "    </tr>\n",
       "    <tr>\n",
       "      <th>332 </th>\n",
       "      <td>    via monte carmen 4; 6900</td>\n",
       "      <td> 33</td>\n",
       "      <td> 0</td>\n",
       "      <td> 33</td>\n",
       "    </tr>\n",
       "  </tbody>\n",
       "</table>\n",
       "</div>"
      ],
      "text/plain": [
       "                          address  numFemales  numMales  numUsers\n",
       "18       via lambertenghi 1; 6900          52         1        53\n",
       "2288  chemin des falaises 3; 1005          52         0        52\n",
       "1349   chemin des berges 12; 1022          41         0        41\n",
       "2150     avenue des bains 9; 1007          37         0        37\n",
       "332      via monte carmen 4; 6900          33         0        33"
      ]
     },
     "execution_count": 43,
     "metadata": {},
     "output_type": "execute_result"
    }
   ],
   "source": [
    "multiAdr = []\n",
    "for a, us in users_multiAdr.items():\n",
    "    snnames = set(subnets_d[s][u'name'] if subnets_d.has_key(s) else str(s) \n",
    "                  for s in set(u[u'subnetwork_id'] for u in us))\n",
    "    multiAdr.append( {u'address': a,\n",
    "                      u'numUsers': len(us),\n",
    "                      u'numMales': sum(u['gender'] == \"M\" for u in us),\n",
    "                      u'numFemales': sum(u['gender'] == \"F\" for u in us),\n",
    "                      u'subnetworks': snnames})\n",
    " \n",
    "\n",
    "\n",
    "#print(pd.DataFrame(multiAdrMultiSN).to_string())\n",
    "multiAdr_df = pd.DataFrame(multiAdr).sort(['numUsers'], ascending=False)\n",
    "multiAdr_df[['address', 'numFemales',\n",
    "             'numMales', 'numUsers']][multiAdr_df['numUsers'] > 30]"
   ]
  },
  {
   "cell_type": "code",
   "execution_count": 136,
   "metadata": {
    "collapsed": false
   },
   "outputs": [
    {
     "data": {
      "text/plain": [
       "[<matplotlib.lines.Line2D at 0x12f63b750>]"
      ]
     },
     "execution_count": 136,
     "metadata": {},
     "output_type": "execute_result"
    },
    {
     "data": {
      "image/png": "[encoded data removed]",
      "text/plain": [
       "<matplotlib.figure.Figure at 0x12f63ba90>"
      ]
     },
     "metadata": {},
     "output_type": "display_data"
    }
   ],
   "source": [
    "yf = sorted(u['id'] for u in users if u['gender'] == \"F\" and u['address'] != '' )\n",
    "ym = sorted(u['id'] for u in users if u['gender'] == \"M\" and u['address'] != '' )\n",
    "xf = range(len(yf))\n",
    "xm = range(len(ym))\n",
    "plt.plot(xf, yf)\n",
    "plt.plot(xm, ym)"
   ]
  },
  {
   "cell_type": "code",
   "execution_count": 127,
   "metadata": {
    "collapsed": false
   },
   "outputs": [
    {
     "name": "stdout",
     "output_type": "stream",
     "text": [
      "24946 58928 83874 83874\n",
      "84034\n"
     ]
    }
   ],
   "source": [
    "usmaller2 = [u for u in users if u['id'] < 24947]\n",
    "ugreater2 = [u for u in users if u['id'] >= 80000]\n",
    "print len(usmaller2), len(ugreater2), len(usmaller2) + len(ugreater2), len(users)\n",
    "print min( u['id'] for u in users if u['id'] in trxn_users)"
   ]
  },
  {
   "cell_type": "code",
   "execution_count": 150,
   "metadata": {
    "collapsed": false
   },
   "outputs": [
    {
     "data": {
      "text/plain": [
       "[<matplotlib.lines.Line2D at 0x130246910>]"
      ]
     },
     "execution_count": 150,
     "metadata": {},
     "output_type": "execute_result"
    },
    {
     "data": {
      "image/png": "[encoded data removed]",
      "text/plain": [
       "<matplotlib.figure.Figure at 0x130e48190>"
      ]
     },
     "metadata": {},
     "output_type": "display_data"
    }
   ],
   "source": [
    "users = sorted(users, key=lambda u: u['id'])\n",
    "gndr = [ u['gender'] == \"F\" for u in users]\n",
    "x = np.array(range(len(gndr)))\n",
    "plt.plot(x, np.cumsum(gndr))\n",
    "plt.plot(x, np.cumsum( [not g for g in gndr]))\n",
    "plt.plot(x, x/2, color=\"black\")"
   ]
  },
  {
   "cell_type": "code",
   "execution_count": 37,
   "metadata": {
    "collapsed": false
   },
   "outputs": [
    {
     "data": {
      "text/html": [
       "<div style=\"max-height:1000px;max-width:1500px;overflow:auto;\">\n",
       "<table border=\"1\" class=\"dataframe\">\n",
       "  <thead>\n",
       "    <tr style=\"text-align: right;\">\n",
       "      <th></th>\n",
       "      <th>address</th>\n",
       "      <th>numFemales</th>\n",
       "      <th>numMales</th>\n",
       "      <th>numUsers</th>\n",
       "    </tr>\n",
       "  </thead>\n",
       "  <tbody>\n",
       "    <tr>\n",
       "      <th>0</th>\n",
       "      <td>     bonne-espérance 28; 1006</td>\n",
       "      <td> 1</td>\n",
       "      <td> 0</td>\n",
       "      <td> 1</td>\n",
       "    </tr>\n",
       "    <tr>\n",
       "      <th>1</th>\n",
       "      <td>    37 route cantonnale; 1025</td>\n",
       "      <td> 1</td>\n",
       "      <td> 0</td>\n",
       "      <td> 1</td>\n",
       "    </tr>\n",
       "    <tr>\n",
       "      <th>2</th>\n",
       "      <td>    avenue de la dôle 4; 1005</td>\n",
       "      <td> 1</td>\n",
       "      <td> 0</td>\n",
       "      <td> 1</td>\n",
       "    </tr>\n",
       "    <tr>\n",
       "      <th>3</th>\n",
       "      <td>            abbesses 21; 2012</td>\n",
       "      <td> 1</td>\n",
       "      <td> 0</td>\n",
       "      <td> 1</td>\n",
       "    </tr>\n",
       "    <tr>\n",
       "      <th>4</th>\n",
       "      <td> chemin de ponfilet 100; 1093</td>\n",
       "      <td> 0</td>\n",
       "      <td> 1</td>\n",
       "      <td> 1</td>\n",
       "    </tr>\n",
       "  </tbody>\n",
       "</table>\n",
       "</div>"
      ],
      "text/plain": [
       "                        address  numFemales  numMales  numUsers\n",
       "0      bonne-espérance 28; 1006           1         0         1\n",
       "1     37 route cantonnale; 1025           1         0         1\n",
       "2     avenue de la dôle 4; 1005           1         0         1\n",
       "3             abbesses 21; 2012           1         0         1\n",
       "4  chemin de ponfilet 100; 1093           0         1         1"
      ]
     },
     "execution_count": 37,
     "metadata": {},
     "output_type": "execute_result"
    }
   ],
   "source": [
    "uniqueAdr = []\n",
    "\n",
    "for a, us in users_uniqueAdr.items():\n",
    "    snnames = set(subnets_d[s][u'name'] if subnets_d.has_key(s) else str(s) \n",
    "                  for s in set(u[u'subnetwork_id'] for u in us))\n",
    "    uniqueAdr.append( {u'address': a,\n",
    "                      u'numUsers': len(us),\n",
    "                      u'numMales': sum(u['gender'] == \"M\" for u in us),\n",
    "                      u'numFemales': sum(u['gender'] == \"F\" for u in us),\n",
    "                      u'subnetworks': snnames})\n",
    "    \n",
    "uniqueAdr_df = pd.DataFrame(uniqueAdr)\n",
    "uniqueAdr_df[['address', 'numFemales',\n",
    "              'numMales', 'numUsers']].head()"
   ]
  },
  {
   "cell_type": "markdown",
   "metadata": {},
   "source": [
    "##Network Usage\n",
    "\n",
    "In addition to how many transactions, users for each subnetwork, we can look at the number of stations and geographic subnetwork that a user uses."
   ]
  },
  {
   "cell_type": "code",
   "execution_count": 125,
   "metadata": {
    "collapsed": false
   },
   "outputs": [
    {
     "name": "stdout",
     "output_type": "stream",
     "text": [
      "Fraction of users who have registered a transaction 0.10673152586\n"
     ]
    }
   ],
   "source": [
    "trxn_users = set( t['user_id'] for t in trxns)\n",
    "print \"Fraction of users who have registered a transaction\", (1.*len(trxn_users))/len(users)"
   ]
  },
  {
   "cell_type": "code",
   "execution_count": 41,
   "metadata": {
    "collapsed": false
   },
   "outputs": [
    {
     "data": {
      "text/plain": [
       "<matplotlib.axes._subplots.AxesSubplot at 0x12ce5c650>"
      ]
     },
     "execution_count": 41,
     "metadata": {},
     "output_type": "execute_result"
    },
    {
     "data": {
      "image/png": "[encoded data removed]",
      "text/plain": [
       "<matplotlib.figure.Figure at 0x1301c76d0>"
      ]
     },
     "metadata": {},
     "output_type": "display_data"
    }
   ],
   "source": [
    "#Number of stations and subnetworks  a user frequents\n",
    "\n",
    "\n",
    "\n",
    "user_trxn_stations = {u: {u'user_id': u,\n",
    "                          u'stations': set(),\n",
    "                          u'numTrxns': 0,\n",
    "                          u'assigned_subnet': users_d[u][u'subnetwork_id']}\n",
    "                      for u in trxn_users }\n",
    "\n",
    "stn_subnet = { s[u'id']: s[u'subnetwork_id'] for s in stations}\n",
    "\n",
    "for t in trxns:\n",
    "    uid = t[u'user_id']\n",
    "    user_trxn_stations[uid][u'stations'].add( t[u'station_id'])\n",
    "    user_trxn_stations[uid][u'numTrxns'] += 1\n",
    "    \n",
    "for u in user_trxn_stations.keys():\n",
    "    user = user_trxn_stations[u]\n",
    "    user[u'numStations'] = len(user[u'stations'])\n",
    "    user[u'stn_subnets'] = set( stn_subnet[s] for s in user[u'stations'] )\n",
    "    user[u'numSubnets'] = len(user[u'stn_subnets'])\n",
    "\n",
    "    \n",
    "user_stations = pd.DataFrame(user_trxn_stations.values()).sort(['numStations'], \n",
    "                                                               ascending=False)\n",
    "#user_stations[['user_id','assigned_subnet', 'numStations', \n",
    " #              'numSubnets', 'numTrxns']].head()\n",
    "\n",
    "user_stations['numSubnets'].plot(kind=\"hist\", bins=10,\n",
    "                                 title=\"Number of subnetworks a user frequents\" )\n",
    "\n",
    "#user_stations['numStations'].plot(kind='hist', logy=True, bins = 50,\n",
    "#                               title=\"Number of stations a user frequents\")"
   ]
  },
  {
   "cell_type": "code",
   "execution_count": 42,
   "metadata": {
    "collapsed": false
   },
   "outputs": [
    {
     "data": {
      "text/plain": [
       "<matplotlib.axes._subplots.AxesSubplot at 0x12ff954d0>"
      ]
     },
     "execution_count": 42,
     "metadata": {},
     "output_type": "execute_result"
    },
    {
     "data": {
      "image/png": "[encoded data removed]",
      "text/plain": [
       "<matplotlib.figure.Figure at 0x12ff95250>"
      ]
     },
     "metadata": {},
     "output_type": "display_data"
    }
   ],
   "source": [
    "user_stations['numStations'].plot(kind='hist', logy=True, bins = 50,\n",
    "                              title=\"Number of stations a user frequents\")"
   ]
  },
  {
   "cell_type": "markdown",
   "metadata": {},
   "source": [
    "#Appendix\n"
   ]
  },
  {
   "cell_type": "code",
   "execution_count": 76,
   "metadata": {
    "collapsed": false
   },
   "outputs": [
    {
     "name": "stdout",
     "output_type": "stream",
     "text": [
      "Table characterizing subnetworks\n"
     ]
    },
    {
     "data": {
      "text/html": [
       "<div style=\"max-height:1000px;max-width:1500px;overflow:auto;\">\n",
       "<table border=\"1\" class=\"dataframe\">\n",
       "  <thead>\n",
       "    <tr style=\"text-align: right;\">\n",
       "      <th></th>\n",
       "      <th>id</th>\n",
       "      <th>name</th>\n",
       "      <th>numStations</th>\n",
       "      <th>numTrxns_admin</th>\n",
       "      <th>numTrxns_geo</th>\n",
       "      <th>numUsers</th>\n",
       "    </tr>\n",
       "    <tr>\n",
       "      <th>name</th>\n",
       "      <th></th>\n",
       "      <th></th>\n",
       "      <th></th>\n",
       "      <th></th>\n",
       "      <th></th>\n",
       "      <th></th>\n",
       "    </tr>\n",
       "  </thead>\n",
       "  <tbody>\n",
       "    <tr>\n",
       "      <th>La Cote</th>\n",
       "      <td>    1</td>\n",
       "      <td>           La Cote</td>\n",
       "      <td> 13</td>\n",
       "      <td>      0</td>\n",
       "      <td> 71292</td>\n",
       "      <td>     0</td>\n",
       "    </tr>\n",
       "    <tr>\n",
       "      <th>Bulle</th>\n",
       "      <td>    3</td>\n",
       "      <td>             Bulle</td>\n",
       "      <td>  2</td>\n",
       "      <td>      0</td>\n",
       "      <td>   566</td>\n",
       "      <td>     0</td>\n",
       "    </tr>\n",
       "    <tr>\n",
       "      <th>Les Lacs-Romont</th>\n",
       "      <td>    4</td>\n",
       "      <td>   Les Lacs-Romont</td>\n",
       "      <td>  9</td>\n",
       "      <td>      0</td>\n",
       "      <td>  4964</td>\n",
       "      <td>     0</td>\n",
       "    </tr>\n",
       "    <tr>\n",
       "      <th>Bâle</th>\n",
       "      <td>    5</td>\n",
       "      <td>              Bâle</td>\n",
       "      <td>  0</td>\n",
       "      <td>      0</td>\n",
       "      <td>     0</td>\n",
       "      <td>     0</td>\n",
       "    </tr>\n",
       "    <tr>\n",
       "      <th>Riviera</th>\n",
       "      <td>   11</td>\n",
       "      <td>           Riviera</td>\n",
       "      <td>  5</td>\n",
       "      <td>      0</td>\n",
       "      <td> 11576</td>\n",
       "      <td>     0</td>\n",
       "    </tr>\n",
       "    <tr>\n",
       "      <th>Morges</th>\n",
       "      <td>   15</td>\n",
       "      <td>            Morges</td>\n",
       "      <td>  0</td>\n",
       "      <td>      0</td>\n",
       "      <td>     0</td>\n",
       "      <td>     0</td>\n",
       "    </tr>\n",
       "    <tr>\n",
       "      <th>Chablais</th>\n",
       "      <td>    6</td>\n",
       "      <td>          Chablais</td>\n",
       "      <td> 10</td>\n",
       "      <td>      0</td>\n",
       "      <td>  2377</td>\n",
       "      <td>     3</td>\n",
       "    </tr>\n",
       "    <tr>\n",
       "      <th>Ouchy</th>\n",
       "      <td>   16</td>\n",
       "      <td>             Ouchy</td>\n",
       "      <td>  0</td>\n",
       "      <td>      0</td>\n",
       "      <td>     0</td>\n",
       "      <td>     3</td>\n",
       "    </tr>\n",
       "    <tr>\n",
       "      <th>Paradiso</th>\n",
       "      <td>   17</td>\n",
       "      <td>          Paradiso</td>\n",
       "      <td>  0</td>\n",
       "      <td>      0</td>\n",
       "      <td>     0</td>\n",
       "      <td>     3</td>\n",
       "    </tr>\n",
       "    <tr>\n",
       "      <th>Vevey</th>\n",
       "      <td>   14</td>\n",
       "      <td>             Vevey</td>\n",
       "      <td>  0</td>\n",
       "      <td>      0</td>\n",
       "      <td>     0</td>\n",
       "      <td>     4</td>\n",
       "    </tr>\n",
       "    <tr>\n",
       "      <th>unknown</th>\n",
       "      <td> 2011</td>\n",
       "      <td>           unknown</td>\n",
       "      <td>  0</td>\n",
       "      <td>      0</td>\n",
       "      <td>     0</td>\n",
       "      <td>   152</td>\n",
       "    </tr>\n",
       "    <tr>\n",
       "      <th>unknown</th>\n",
       "      <td> 2005</td>\n",
       "      <td>           unknown</td>\n",
       "      <td>  0</td>\n",
       "      <td>      0</td>\n",
       "      <td>     0</td>\n",
       "      <td>   469</td>\n",
       "    </tr>\n",
       "    <tr>\n",
       "      <th>Valais Central</th>\n",
       "      <td>    7</td>\n",
       "      <td>    Valais Central</td>\n",
       "      <td>  7</td>\n",
       "      <td>      0</td>\n",
       "      <td>  5077</td>\n",
       "      <td>   530</td>\n",
       "    </tr>\n",
       "    <tr>\n",
       "      <th>Cern</th>\n",
       "      <td>   18</td>\n",
       "      <td>              Cern</td>\n",
       "      <td>  0</td>\n",
       "      <td>      0</td>\n",
       "      <td>     0</td>\n",
       "      <td>   721</td>\n",
       "    </tr>\n",
       "    <tr>\n",
       "      <th>Yverdon-les-Bains</th>\n",
       "      <td>    8</td>\n",
       "      <td> Yverdon-les-Bains</td>\n",
       "      <td>  9</td>\n",
       "      <td>      0</td>\n",
       "      <td> 33227</td>\n",
       "      <td>   773</td>\n",
       "    </tr>\n",
       "    <tr>\n",
       "      <th>Agglo Fribourg</th>\n",
       "      <td>    2</td>\n",
       "      <td>    Agglo Fribourg</td>\n",
       "      <td> 10</td>\n",
       "      <td>      0</td>\n",
       "      <td> 17630</td>\n",
       "      <td>   810</td>\n",
       "    </tr>\n",
       "    <tr>\n",
       "      <th>Lausanne-Morges</th>\n",
       "      <td>    9</td>\n",
       "      <td>   Lausanne-Morges</td>\n",
       "      <td> 11</td>\n",
       "      <td>      0</td>\n",
       "      <td> 12157</td>\n",
       "      <td>  2183</td>\n",
       "    </tr>\n",
       "    <tr>\n",
       "      <th>Lugano-Paradiso</th>\n",
       "      <td>   12</td>\n",
       "      <td>   Lugano-Paradiso</td>\n",
       "      <td> 13</td>\n",
       "      <td>      0</td>\n",
       "      <td> 66415</td>\n",
       "      <td>  3425</td>\n",
       "    </tr>\n",
       "    <tr>\n",
       "      <th>Campus</th>\n",
       "      <td>   10</td>\n",
       "      <td>            Campus</td>\n",
       "      <td> 15</td>\n",
       "      <td>      0</td>\n",
       "      <td> 65853</td>\n",
       "      <td> 15871</td>\n",
       "    </tr>\n",
       "    <tr>\n",
       "      <th>PubliBike</th>\n",
       "      <td>   13</td>\n",
       "      <td>         PubliBike</td>\n",
       "      <td>  0</td>\n",
       "      <td> 291134</td>\n",
       "      <td>     0</td>\n",
       "      <td> 58927</td>\n",
       "    </tr>\n",
       "  </tbody>\n",
       "</table>\n",
       "</div>"
      ],
      "text/plain": [
       "                     id               name  numStations  numTrxns_admin  \\\n",
       "name                                                                      \n",
       "La Cote               1            La Cote           13               0   \n",
       "Bulle                 3              Bulle            2               0   \n",
       "Les Lacs-Romont       4    Les Lacs-Romont            9               0   \n",
       "Bâle                  5               Bâle            0               0   \n",
       "Riviera              11            Riviera            5               0   \n",
       "Morges               15             Morges            0               0   \n",
       "Chablais              6           Chablais           10               0   \n",
       "Ouchy                16              Ouchy            0               0   \n",
       "Paradiso             17           Paradiso            0               0   \n",
       "Vevey                14              Vevey            0               0   \n",
       "unknown            2011            unknown            0               0   \n",
       "unknown            2005            unknown            0               0   \n",
       "Valais Central        7     Valais Central            7               0   \n",
       "Cern                 18               Cern            0               0   \n",
       "Yverdon-les-Bains     8  Yverdon-les-Bains            9               0   \n",
       "Agglo Fribourg        2     Agglo Fribourg           10               0   \n",
       "Lausanne-Morges       9    Lausanne-Morges           11               0   \n",
       "Lugano-Paradiso      12    Lugano-Paradiso           13               0   \n",
       "Campus               10             Campus           15               0   \n",
       "PubliBike            13          PubliBike            0          291134   \n",
       "\n",
       "                   numTrxns_geo  numUsers  \n",
       "name                                       \n",
       "La Cote                   71292         0  \n",
       "Bulle                       566         0  \n",
       "Les Lacs-Romont            4964         0  \n",
       "Bâle                          0         0  \n",
       "Riviera                   11576         0  \n",
       "Morges                        0         0  \n",
       "Chablais                   2377         3  \n",
       "Ouchy                         0         3  \n",
       "Paradiso                      0         3  \n",
       "Vevey                         0         4  \n",
       "unknown                       0       152  \n",
       "unknown                       0       469  \n",
       "Valais Central             5077       530  \n",
       "Cern                          0       721  \n",
       "Yverdon-les-Bains         33227       773  \n",
       "Agglo Fribourg            17630       810  \n",
       "Lausanne-Morges           12157      2183  \n",
       "Lugano-Paradiso           66415      3425  \n",
       "Campus                    65853     15871  \n",
       "PubliBike                     0     58927  "
      ]
     },
     "execution_count": 76,
     "metadata": {},
     "output_type": "execute_result"
    }
   ],
   "source": [
    "print \"Table characterizing subnetworks\"\n",
    "subnet_nums_df"
   ]
  },
  {
   "cell_type": "code",
   "execution_count": null,
   "metadata": {
    "collapsed": true
   },
   "outputs": [],
   "source": []
  }
 ],
 "metadata": {
  "kernelspec": {
   "display_name": "Python 2",
   "language": "python",
   "name": "python2"
  },
  "language_info": {
   "codemirror_mode": {
    "name": "ipython",
    "version": 2
   },
   "file_extension": ".py",
   "mimetype": "text/x-python",
   "name": "python",
   "nbconvert_exporter": "python",
   "pygments_lexer": "ipython2",
   "version": "2.7.9"
  }
 },
 "nbformat": 4,
 "nbformat_minor": 0
}
