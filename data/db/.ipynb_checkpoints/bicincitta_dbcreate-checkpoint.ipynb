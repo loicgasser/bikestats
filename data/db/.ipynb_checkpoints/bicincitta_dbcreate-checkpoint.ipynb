{
 "cells": [
  {
   "cell_type": "markdown",
   "metadata": {},
   "source": [
    "We will insert the downloaded data into databases"
   ]
  },
  {
   "cell_type": "code",
   "execution_count": 66,
   "metadata": {
    "collapsed": false
   },
   "outputs": [],
   "source": [
    "import psycopg2\n",
    "import pandas as pd\n",
    "import os\n",
    "import json\n",
    "\n",
    "connection = psycopg2.connect(\"dbname=publibike_db user=publibike_user\")\n",
    "cursor = connection.cursor()\n",
    "\n",
    "\n",
    "bikedatapath = os.path.join(\"Bicincitta_Drop\", \"datasets_2013\")\n",
    "stnfile = file(os.path.join(bikedatapath, \"stations.json\"), \"r\")\n",
    "subnetfile =  file(os.path.join(bikedatapath, \"subnetworks.json\"), \"r\")             \n",
    "userfile =  file(os.path.join(bikedatapath, \"users.json\"), \"r\")                       \n",
    "trxnfile =  file(os.path.join(bikedatapath, \"transactions.json\"), \"r\")                       \n",
    "\n",
    "\n",
    "\n"
   ]
  },
  {
   "cell_type": "code",
   "execution_count": null,
   "metadata": {
    "collapsed": true
   },
   "outputs": [],
   "source": [
    "subnets = json.load(subnetfile)[u'RECORDS']\n",
    "\n",
    "for snet in subnets:\n",
    "    i = int(snet[u'id'])\n",
    "    name = snet[u'name'].encode(\"utf8\")\n",
    "    cursor.execute(\"INSERT INTO bicincitta.subnetworks ( id, name) \" +\n",
    "                   \"VALUES (%s, %s) \", (i, name))\n",
    "connection.commit()"
   ]
  },
  {
   "cell_type": "code",
   "execution_count": 67,
   "metadata": {
    "collapsed": false
   },
   "outputs": [
    {
     "ename": "IntegrityError",
     "evalue": "duplicate key value violates unique constraint \"stations_pkey\"\nDETAIL:  Key (id)=(145) already exists.\n",
     "output_type": "error",
     "traceback": [
      "\u001b[0;31m---------------------------------------------------------------------------\u001b[0m",
      "\u001b[0;31mIntegrityError\u001b[0m                            Traceback (most recent call last)",
      "\u001b[0;32m<ipython-input-67-e90e8a5f5e40>\u001b[0m in \u001b[0;36m<module>\u001b[0;34m()\u001b[0m\n\u001b[1;32m     14\u001b[0m                    \u001b[0;34m\"longitude) \"\u001b[0m \u001b[0;34m+\u001b[0m\u001b[0;34m\u001b[0m\u001b[0m\n\u001b[1;32m     15\u001b[0m                    \u001b[0;34m\"VALUES (%s, %s, %s, %s, %s)\"\u001b[0m\u001b[0;34m,\u001b[0m\u001b[0;34m\u001b[0m\u001b[0m\n\u001b[0;32m---> 16\u001b[0;31m                    (i, name.encode(\"utf8\"), sid, lat, lon))\n\u001b[0m\u001b[1;32m     17\u001b[0m \u001b[0mconnection\u001b[0m\u001b[0;34m.\u001b[0m\u001b[0mcommit\u001b[0m\u001b[0;34m(\u001b[0m\u001b[0;34m)\u001b[0m\u001b[0;34m\u001b[0m\u001b[0m\n\u001b[1;32m     18\u001b[0m \u001b[0mstnfle\u001b[0m\u001b[0;34m.\u001b[0m\u001b[0mclose\u001b[0m\u001b[0;34m(\u001b[0m\u001b[0;34m)\u001b[0m\u001b[0;34m\u001b[0m\u001b[0m\n",
      "\u001b[0;31mIntegrityError\u001b[0m: duplicate key value violates unique constraint \"stations_pkey\"\nDETAIL:  Key (id)=(145) already exists.\n"
     ]
    }
   ],
   "source": [
    "stations = json.load(stnfile)[u'RECORDS']\n",
    "\n",
    "for statn in stations:\n",
    "    i = int(statn[u'id'])\n",
    "    lat = float(statn[u'latitude'])\n",
    "    lon = float(statn[u'longitude'])\n",
    "    name = statn[u'name']\n",
    "    sid = int(statn[u'subnetwork_id'])\n",
    "    #print (i, name, sid, lat, lon)\n",
    "    cursor.execute(\"INSERT INTO bicincitta.stations (id,\" +\n",
    "                   \"name,\" + \n",
    "                   \"subnetwork_id,\" + \n",
    "                   \"latitude,\" + \n",
    "                   \"longitude) \" + \n",
    "                   \"VALUES (%s, %s, %s, %s, %s)\",\n",
    "                   (i, name.encode(\"utf8\"), sid, lat, lon))\n",
    "connection.commit()\n",
    "stnfle.close()"
   ]
  },
  {
   "cell_type": "code",
   "execution_count": 118,
   "metadata": {
    "collapsed": false
   },
   "outputs": [],
   "source": [
    "userfile =  file(os.path.join(bikedatapath, \"users.json\"), \"r\")        \n",
    "users = json.load(userfile)[u'RECORDS']\n",
    "userfile.close()\n",
    "\n",
    "connection = psycopg2.connect(\"dbname=publibike_db user=publibike_user\")\n",
    "cursor = connection.cursor()\n",
    "cursor.execute(\"DELETE FROM bicincitta.users\")\n",
    "\n",
    "for user in users:\n",
    "    adr = user[u'address']\n",
    "    exp = user[u'expires']\n",
    "    exp = None if exp == \"\" else exp\n",
    "    gnd = user[u'gender']\n",
    "    i = int(user[u'id'])\n",
    "    pc = user[u'postal_code']\n",
    "    sid = int(user[u'subnetwork_id'])\n",
    "    if sid != 2005 and sid != 2011:\n",
    "        cursor.execute(\"INSERT INTO bicincitta.users (id, \"+\n",
    "                                                      \"subnetwork_id,\"+\n",
    "                                                      \"gender,\"+\n",
    "                                                      \"postal_code,\"+\n",
    "                                                      \"address,\"+\n",
    "                                                      \"expires)\"+\n",
    "                       \"VALUES(%s, %s, %s, %s, %s, %s)\",\n",
    "                       (i, sid, gnd, pc, adr, exp))\n",
    "connection.commit()\n",
    "                   \n",
    "    "
   ]
  },
  {
   "cell_type": "code",
   "execution_count": 119,
   "metadata": {
    "collapsed": false
   },
   "outputs": [
    {
     "data": {
      "text/plain": [
       "83874"
      ]
     },
     "execution_count": 119,
     "metadata": {},
     "output_type": "execute_result"
    }
   ],
   "source": [
    "len(users)"
   ]
  },
  {
   "cell_type": "code",
   "execution_count": 112,
   "metadata": {
    "collapsed": false
   },
   "outputs": [],
   "source": [
    "u2005 = [ u for u in users if u['subnetwork_id'] == u'2005']\n",
    "u2005ids = set([u['id'] for u in u2005])\n",
    "u2011 = [ u for u in users if u['subnetwork_id'] == u'2011']\n",
    "u2011ids = set([u['id'] for u in u2011])\n",
    "uidsvalid = set([u['id'] for u in users]).difference( u2005ids.union(u2011ids))\n",
    "usids = set([u['subnetwork_id'] for u in users])\n",
    "ssids = set([s['subnetwork_id'] for s in stations])"
   ]
  },
  {
   "cell_type": "code",
   "execution_count": 115,
   "metadata": {
    "collapsed": false
   },
   "outputs": [],
   "source": [
    "trxn2005 = [ trxn for trxn in trxns if trxn[u'user_id'] in  u2005ids]\n",
    "trxn2011 = [ trxn for trxn in trxns if trxn[u'user_id'] in  u2011ids]\n",
    "trxnvalid = [trxn for trxn in trxns if trxn[u'user_id'] in uidsvalid]"
   ]
  },
  {
   "cell_type": "code",
   "execution_count": 123,
   "metadata": {
    "collapsed": false
   },
   "outputs": [
    {
     "data": {
      "text/plain": [
       "(291134, 0, 0)"
      ]
     },
     "execution_count": 123,
     "metadata": {},
     "output_type": "execute_result"
    }
   ],
   "source": [
    "len(trxns), len(trxn2005), len(trxn2011)"
   ]
  },
  {
   "cell_type": "code",
   "execution_count": 124,
   "metadata": {
    "collapsed": false
   },
   "outputs": [
    {
     "data": {
      "text/plain": [
       "[{u'id': u'1', u'name': u'La Cote'},\n",
       " {u'id': u'3', u'name': u'Bulle'},\n",
       " {u'id': u'4', u'name': u'Les Lacs-Romont'},\n",
       " {u'id': u'5', u'name': u'B\\xe2le'},\n",
       " {u'id': u'13', u'name': u'PubliBike'},\n",
       " {u'id': u'10', u'name': u'Campus'},\n",
       " {u'id': u'15', u'name': u'Morges'},\n",
       " {u'id': u'16', u'name': u'Ouchy'},\n",
       " {u'id': u'17', u'name': u'Paradiso'},\n",
       " {u'id': u'18', u'name': u'Cern'},\n",
       " {u'id': u'14', u'name': u'Vevey'},\n",
       " {u'id': u'2', u'name': u'Agglo Fribourg'},\n",
       " {u'id': u'8', u'name': u'Yverdon-les-Bains'},\n",
       " {u'id': u'12', u'name': u'Lugano-Paradiso'},\n",
       " {u'id': u'7', u'name': u'Valais Central'},\n",
       " {u'id': u'6', u'name': u'Chablais'},\n",
       " {u'id': u'9', u'name': u'Lausanne-Morges'},\n",
       " {u'id': u'11', u'name': u'Riviera'}]"
      ]
     },
     "execution_count": 124,
     "metadata": {},
     "output_type": "execute_result"
    }
   ],
   "source": [
    "subnets"
   ]
  },
  {
   "cell_type": "code",
   "execution_count": 120,
   "metadata": {
    "collapsed": false
   },
   "outputs": [],
   "source": [
    "trxnfile =  file(os.path.join(bikedatapath, \"transactions.json\"), \"r\") \n",
    "trxns = json.load(trxnfile)[u'RECORDS']\n",
    "trxnfile.close()\n",
    "\n",
    "connection = psycopg2.connect(\"dbname=publibike_db user=publibike_user\")\n",
    "cursor = connection.cursor()\n",
    "cursor.execute(\"DELETE FROM bicincitta.transactions\")\n",
    "for trxn in trxns:\n",
    "    drxn = \"OUT\" if (trxn[u'direction'] == \"check_out\") else \"IN\"\n",
    "    i = int(trxn[u'id'])\n",
    "    t = trxn[u'event_time']\n",
    "    uid = int(trxn[u'user_id'])\n",
    "    sid = int(trxn[u'station_id'])\n",
    "    cursor.execute( \"INSERT INTO bicincitta.transactions ( id, \" + \n",
    "                                                           \"timestamp,\" +\n",
    "                                                           \"user_id,\" +\n",
    "                                                           \"station_id,\" + \n",
    "                                                           \"direction)\" +\n",
    "                   \"VALUES (%s, %s, %s, %s, %s)\",\n",
    "                   (i, t, uid, sid, drxn))\n",
    "connection.commit()\n",
    "                                                            "
   ]
  },
  {
   "cell_type": "code",
   "execution_count": 121,
   "metadata": {
    "collapsed": false
   },
   "outputs": [
    {
     "data": {
      "text/plain": [
       "291134"
      ]
     },
     "execution_count": 121,
     "metadata": {},
     "output_type": "execute_result"
    }
   ],
   "source": [
    "len(trxns)"
   ]
  },
  {
   "cell_type": "markdown",
   "metadata": {},
   "source": [
    "The subnetworks in the *subnetworks* data set do not correspond to the real subnetworks as we think of them:"
   ]
  },
  {
   "cell_type": "code",
   "execution_count": 270,
   "metadata": {
    "collapsed": false
   },
   "outputs": [
    {
     "data": {
      "text/html": [
       "<div style=\"max-height:1000px;max-width:1500px;overflow:auto;\">\n",
       "<table border=\"1\" class=\"dataframe\">\n",
       "  <thead>\n",
       "    <tr style=\"text-align: right;\">\n",
       "      <th></th>\n",
       "      <th>id</th>\n",
       "      <th>name</th>\n",
       "    </tr>\n",
       "    <tr>\n",
       "      <th>id</th>\n",
       "      <th></th>\n",
       "      <th></th>\n",
       "    </tr>\n",
       "  </thead>\n",
       "  <tbody>\n",
       "    <tr>\n",
       "      <th>1</th>\n",
       "      <td>  1</td>\n",
       "      <td>         La Cote</td>\n",
       "    </tr>\n",
       "    <tr>\n",
       "      <th>3</th>\n",
       "      <td>  3</td>\n",
       "      <td>           Bulle</td>\n",
       "    </tr>\n",
       "    <tr>\n",
       "      <th>4</th>\n",
       "      <td>  4</td>\n",
       "      <td> Les Lacs-Romont</td>\n",
       "    </tr>\n",
       "    <tr>\n",
       "      <th>5</th>\n",
       "      <td>  5</td>\n",
       "      <td>            Bâle</td>\n",
       "    </tr>\n",
       "    <tr>\n",
       "      <th>13</th>\n",
       "      <td> 13</td>\n",
       "      <td>       PubliBike</td>\n",
       "    </tr>\n",
       "  </tbody>\n",
       "</table>\n",
       "</div>"
      ],
      "text/plain": [
       "    id             name\n",
       "id                     \n",
       "1    1          La Cote\n",
       "3    3            Bulle\n",
       "4    4  Les Lacs-Romont\n",
       "5    5             Bâle\n",
       "13  13        PubliBike"
      ]
     },
     "execution_count": 270,
     "metadata": {},
     "output_type": "execute_result"
    }
   ],
   "source": [
    "subnets_df = pd.DataFrame(subnets)\n",
    "subnets_df.index = subnets_df.id\n",
    "subnets_df.head()"
   ]
  },
  {
   "cell_type": "markdown",
   "metadata": {},
   "source": [
    "As we can see *Ouchy* is a subnetwork ! But there is no station for subnetwork *Ouchy*.\n",
    "Lets look at what subnetwork_ids are available in stations,"
   ]
  },
  {
   "cell_type": "code",
   "execution_count": 155,
   "metadata": {
    "collapsed": false
   },
   "outputs": [],
   "source": [
    "station_sids = set([s['subnetwork_id'] for s in stations])\n",
    "\n",
    "def sidStnOverlap(i, j):\n",
    "    si = set([s[u'id'] for s in stations if s[u'subnetwork_id'] == i])\n",
    "    sj = set([s[u'id'] for s in stations if s[u'subnetwork_id'] == j])\n",
    "    return si.intersection(sj)\n",
    "    "
   ]
  },
  {
   "cell_type": "code",
   "execution_count": 159,
   "metadata": {
    "collapsed": false
   },
   "outputs": [
    {
     "name": "stdout",
     "output_type": "stream",
     "text": [
      "overlap 11 11 set([u'183', u'186', u'187', u'184', u'185'])\n",
      "overlap 10 10 set([u'203', u'206', u'172', u'163', u'168', u'169', u'162', u'164', u'165', u'166', u'167', u'160', u'161', u'171', u'170'])\n",
      "overlap 12 12 set([u'201', u'198', u'207', u'211', u'194', u'197', u'191', u'190', u'193', u'192', u'210', u'188', u'189'])\n",
      "overlap 1 1 set([u'151', u'195', u'108', u'120', u'132', u'131', u'109', u'111', u'110', u'113', u'112', u'119', u'107'])\n",
      "overlap 3 3 set([u'128', u'129'])\n",
      "overlap 2 2 set([u'200', u'142', u'143', u'133', u'114', u'117', u'116', u'199', u'115', u'118'])\n",
      "overlap 4 4 set([u'123', u'202', u'121', u'122', u'130', u'124', u'125', u'126', u'127'])\n",
      "overlap 7 7 set([u'146', u'147', u'144', u'145', u'150', u'196', u'148'])\n",
      "overlap 6 6 set([u'140', u'141', u'159', u'149', u'137', u'136', u'135', u'134', u'139', u'138'])\n",
      "overlap 9 9 set([u'208', u'182', u'180', u'181', u'179', u'178', u'177', u'176', u'175', u'174', u'173'])\n",
      "overlap 8 8 set([u'153', u'152', u'155', u'154', u'157', u'156', u'209', u'158', u'205'])\n"
     ]
    }
   ],
   "source": [
    "for i in station_sids:\n",
    "    print \"overlap\", i, i, sidStnOverlap(i, i)"
   ]
  },
  {
   "cell_type": "code",
   "execution_count": 162,
   "metadata": {
    "collapsed": false
   },
   "outputs": [],
   "source": [
    "def stationsInSubnet(i):\n",
    "    return [(s['id'], s['name']) for s in stations if s['subnetwork_id'] == i]"
   ]
  },
  {
   "cell_type": "code",
   "execution_count": 167,
   "metadata": {
    "collapsed": false
   },
   "outputs": [
    {
     "data": {
      "text/plain": [
       "[(u'141', u'Centre Manor - Monthey'),\n",
       " (u'134', u'Gare d\\xb4Aigle'),\n",
       " (u'135', u'Hotel de Ville - Aigle'),\n",
       " (u'136', u'Zone industrielle'),\n",
       " (u'138', u'Place du Cotterg'),\n",
       " (u'139', u'Site Chimique - Monthey'),\n",
       " (u'140', u'Hotel de Ville - Monthey'),\n",
       " (u'137', u'Place de la Gare - Monthey'),\n",
       " (u'149', u'Piscine - Aigle'),\n",
       " (u'159', u'Avenue de l\\xb4Europe - Monthey')]"
      ]
     },
     "execution_count": 167,
     "metadata": {},
     "output_type": "execute_result"
    }
   ],
   "source": [
    "stationsInSubnet('6')"
   ]
  },
  {
   "cell_type": "code",
   "execution_count": 130,
   "metadata": {
    "collapsed": false
   },
   "outputs": [],
   "source": [
    "lm_stations = [s for s in stations if s[u'subnetwork_id'] == u'9']"
   ]
  },
  {
   "cell_type": "code",
   "execution_count": 133,
   "metadata": {
    "collapsed": false
   },
   "outputs": [
    {
     "data": {
      "text/plain": [
       "[{u'id': u'161',\n",
       "  u'latitude': u'46.50687010769493',\n",
       "  u'longitude': u'6.625957489013672',\n",
       "  u'name': u'Ouchy',\n",
       "  u'subnetwork_id': u'10'}]"
      ]
     },
     "execution_count": 133,
     "metadata": {},
     "output_type": "execute_result"
    }
   ],
   "source": [
    "[s for s in stations if s[u'name'] == u'Ouchy']"
   ]
  },
  {
   "cell_type": "code",
   "execution_count": 138,
   "metadata": {
    "collapsed": false
   },
   "outputs": [
    {
     "data": {
      "text/plain": [
       "{u'1', u'10', u'11', u'12', u'2', u'3', u'4', u'6', u'7', u'8', u'9'}"
      ]
     },
     "execution_count": 138,
     "metadata": {},
     "output_type": "execute_result"
    }
   ],
   "source": [
    "station_sids = set([s['subnetwork_id'] for s in stations])\n",
    "station_sids"
   ]
  },
  {
   "cell_type": "code",
   "execution_count": 173,
   "metadata": {
    "collapsed": false
   },
   "outputs": [],
   "source": [
    "trxn_uids = list(set([ t['user_id'] for t in trxns]))\n",
    "             "
   ]
  },
  {
   "cell_type": "markdown",
   "metadata": {},
   "source": [
    "#Closure of transactions.\n",
    "\n",
    "To see if all the transactions we need to sort the transactions by their event time.\n",
    "After that we define a function that maps the time sorted transactions of a user to a sequence of -1 (out) and +1 (in). A cummulative sum of this sequence will then tell us if the transactions are closed."
   ]
  },
  {
   "cell_type": "code",
   "execution_count": 191,
   "metadata": {
    "collapsed": false
   },
   "outputs": [],
   "source": [
    "from datetime import datetime\n",
    "trxns = sorted(trxns, \n",
    "               key = lambda t: datetime.strptime(t['event_time'], \"%m/%d/%Y %H:%M:%S\"))"
   ]
  },
  {
   "cell_type": "code",
   "execution_count": 223,
   "metadata": {
    "collapsed": false
   },
   "outputs": [],
   "source": [
    "import numpy as np\n",
    "def outinTrace(uid):\n",
    "    utrxns = [ t['direction'] for t in trxns if t['user_id'] == uid]\n",
    "    outin = np.cumsum([ -1 if t == 'check-out' else +1 for t in utrxns])\n",
    "    return outin\n",
    "def closedTrxnChecker(uid):\n",
    "    outin = outinTrace(uid)\n",
    "    return {'user': uid, 'min': np.min(outin), 'max': np.max(outin)}"
   ]
  },
  {
   "cell_type": "code",
   "execution_count": 207,
   "metadata": {
    "collapsed": false
   },
   "outputs": [],
   "source": [
    "trxnClosures = [closedTrxnChecker(uid) for uid in trxn_uids]"
   ]
  },
  {
   "cell_type": "markdown",
   "metadata": {},
   "source": [
    "Now that we have min/max for the closure of transactions for each user, we can look at how many/ which users have non-closing transactions. "
   ]
  },
  {
   "cell_type": "code",
   "execution_count": 215,
   "metadata": {
    "collapsed": false
   },
   "outputs": [
    {
     "name": "stdout",
     "output_type": "stream",
     "text": [
      "how large can transaction non-closure index get ? set([0, 1, 2, 3, 4, 6, 7, 8, 9, 13])\n"
     ]
    }
   ],
   "source": [
    "print \"how large can transaction non-closure index get ?\", set(t['max'] for t in trxnClosures)"
   ]
  },
  {
   "cell_type": "code",
   "execution_count": 216,
   "metadata": {
    "collapsed": false
   },
   "outputs": [
    {
     "name": "stdout",
     "output_type": "stream",
     "text": [
      "how small can transaction non-closure index get ? set([0, -11, -23, -21, -19, -18, -17, -16, -15, -14, -13, -12, -2, -10, -9, -8, -7, -6, -5, -4, -3, -1])\n"
     ]
    }
   ],
   "source": [
    "print \"how small can transaction non-closure index get ?\",set(t['min'] for t in trxnClosures)"
   ]
  },
  {
   "cell_type": "markdown",
   "metadata": {},
   "source": [
    "This means that there are some users who have taken upto 23 bikes out before returning any! This may be OK, but then there are some users who have returned 13 bikes without renting any! Next, lets look at these delinquent cases, who are they?"
   ]
  },
  {
   "cell_type": "code",
   "execution_count": 227,
   "metadata": {
    "collapsed": false
   },
   "outputs": [],
   "source": [
    "delinquentUsers = [t['user'] for t in trxnClosures if t['max'] > 0 or t['min'] < -1]"
   ]
  },
  {
   "cell_type": "code",
   "execution_count": 242,
   "metadata": {
    "collapsed": false
   },
   "outputs": [
    {
     "data": {
      "text/html": [
       "<div style=\"max-height:1000px;max-width:1500px;overflow:auto;\">\n",
       "<table border=\"1\" class=\"dataframe\">\n",
       "  <thead>\n",
       "    <tr style=\"text-align: right;\">\n",
       "      <th></th>\n",
       "      <th>created_at</th>\n",
       "      <th>direction</th>\n",
       "      <th>event_time</th>\n",
       "      <th>id</th>\n",
       "      <th>station_id</th>\n",
       "      <th>updated_at</th>\n",
       "      <th>user_id</th>\n",
       "    </tr>\n",
       "  </thead>\n",
       "  <tbody>\n",
       "    <tr>\n",
       "      <th>0</th>\n",
       "      <td> 04/29/2015 10:43:19.343392</td>\n",
       "      <td>  check-in</td>\n",
       "      <td> 06/05/2013 07:25:38</td>\n",
       "      <td> 542838</td>\n",
       "      <td> 109</td>\n",
       "      <td> 04/29/2015 10:43:19.343392</td>\n",
       "      <td> 91686</td>\n",
       "    </tr>\n",
       "    <tr>\n",
       "      <th>1</th>\n",
       "      <td> 04/29/2015 10:43:48.500096</td>\n",
       "      <td> check-out</td>\n",
       "      <td> 06/05/2013 17:19:42</td>\n",
       "      <td> 544185</td>\n",
       "      <td> 109</td>\n",
       "      <td> 04/29/2015 10:43:48.500096</td>\n",
       "      <td> 91686</td>\n",
       "    </tr>\n",
       "    <tr>\n",
       "      <th>2</th>\n",
       "      <td> 04/29/2015 10:43:48.589129</td>\n",
       "      <td> check-out</td>\n",
       "      <td> 06/05/2013 17:20:47</td>\n",
       "      <td> 544189</td>\n",
       "      <td> 109</td>\n",
       "      <td> 04/29/2015 10:43:48.589129</td>\n",
       "      <td> 91686</td>\n",
       "    </tr>\n",
       "    <tr>\n",
       "      <th>3</th>\n",
       "      <td> 04/29/2015 10:43:48.593881</td>\n",
       "      <td>  check-in</td>\n",
       "      <td> 06/05/2013 17:27:21</td>\n",
       "      <td> 544190</td>\n",
       "      <td> 108</td>\n",
       "      <td> 04/29/2015 10:43:48.593881</td>\n",
       "      <td> 91686</td>\n",
       "    </tr>\n",
       "  </tbody>\n",
       "</table>\n",
       "</div>"
      ],
      "text/plain": [
       "                   created_at  direction           event_time      id  \\\n",
       "0  04/29/2015 10:43:19.343392   check-in  06/05/2013 07:25:38  542838   \n",
       "1  04/29/2015 10:43:48.500096  check-out  06/05/2013 17:19:42  544185   \n",
       "2  04/29/2015 10:43:48.589129  check-out  06/05/2013 17:20:47  544189   \n",
       "3  04/29/2015 10:43:48.593881   check-in  06/05/2013 17:27:21  544190   \n",
       "\n",
       "  station_id                  updated_at user_id  \n",
       "0        109  04/29/2015 10:43:19.343392   91686  \n",
       "1        109  04/29/2015 10:43:48.500096   91686  \n",
       "2        109  04/29/2015 10:43:48.589129   91686  \n",
       "3        108  04/29/2015 10:43:48.593881   91686  "
      ]
     },
     "execution_count": 242,
     "metadata": {},
     "output_type": "execute_result"
    }
   ],
   "source": [
    "u = 1\n",
    "uid = delinquentUsers[u]\n",
    "tru =  outinTrace(uid)\n",
    "i = np.argmax(tru) if closedTrxnChecker(uid)['max'] > 0 else np.argmin(tru)\n",
    "pd.DataFrame([t for t in trxns if t['user_id'] == delinquentUsers[u]][i-2: i + 2 ])"
   ]
  },
  {
   "cell_type": "code",
   "execution_count": 248,
   "metadata": {
    "collapsed": false
   },
   "outputs": [
    {
     "name": "stdout",
     "output_type": "stream",
     "text": [
      "What subnetwork do delinquent users use"
     ]
    },
    {
     "data": {
      "text/plain": [
       "{u'13'}"
      ]
     },
     "execution_count": 248,
     "metadata": {},
     "output_type": "execute_result"
    },
    {
     "name": "stdout",
     "output_type": "stream",
     "text": [
      "\n"
     ]
    }
   ],
   "source": [
    "print \"What subnetwork do delinquent users use\",\n",
    "set([u['subnetwork_id'] for u in users if u['id'] in delinquentUsers])"
   ]
  },
  {
   "cell_type": "markdown",
   "metadata": {},
   "source": [
    "The subnetwork 13 is the id for Publibike! What about the stations that the delinquent users use?"
   ]
  },
  {
   "cell_type": "code",
   "execution_count": 254,
   "metadata": {
    "collapsed": false
   },
   "outputs": [],
   "source": [
    "delinq_stns = set([t['station_id'] for t in trxns if t['user_id'] in delinquentUsers])"
   ]
  },
  {
   "cell_type": "code",
   "execution_count": 251,
   "metadata": {
    "collapsed": false
   },
   "outputs": [
    {
     "data": {
      "text/html": [
       "<div style=\"max-height:1000px;max-width:1500px;overflow:auto;\">\n",
       "<table border=\"1\" class=\"dataframe\">\n",
       "  <thead>\n",
       "    <tr style=\"text-align: right;\">\n",
       "      <th></th>\n",
       "      <th>id</th>\n",
       "      <th>latitude</th>\n",
       "      <th>longitude</th>\n",
       "      <th>name</th>\n",
       "      <th>subnetwork_id</th>\n",
       "    </tr>\n",
       "  </thead>\n",
       "  <tbody>\n",
       "    <tr>\n",
       "      <th>0</th>\n",
       "      <td> 109</td>\n",
       "      <td> 46.425959</td>\n",
       "      <td> 6.287804</td>\n",
       "      <td> La Ligniere</td>\n",
       "      <td> 1</td>\n",
       "    </tr>\n",
       "  </tbody>\n",
       "</table>\n",
       "</div>"
      ],
      "text/plain": [
       "    id   latitude longitude         name subnetwork_id\n",
       "0  109  46.425959  6.287804  La Ligniere             1"
      ]
     },
     "execution_count": 251,
     "metadata": {},
     "output_type": "execute_result"
    }
   ],
   "source": [
    "pd.DataFrame([s for s in stations if s['id'] == u'109'])"
   ]
  },
  {
   "cell_type": "code",
   "execution_count": 305,
   "metadata": {
    "collapsed": false
   },
   "outputs": [
    {
     "data": {
      "text/plain": [
       "[u'Campus',\n",
       " u'Yverdon-les-Bains',\n",
       " u'Campus',\n",
       " u'Lugano-Paradiso',\n",
       " u'Lausanne-Morges',\n",
       " u'Yverdon-les-Bains',\n",
       " u'Lugano-Paradiso',\n",
       " u'Lugano-Paradiso']"
      ]
     },
     "execution_count": 305,
     "metadata": {},
     "output_type": "execute_result"
    }
   ],
   "source": [
    "list(subnets_df.name[list(delinq_stns_df.subnetwork_id)])"
   ]
  },
  {
   "cell_type": "code",
   "execution_count": 302,
   "metadata": {
    "collapsed": false
   },
   "outputs": [
    {
     "data": {
      "text/html": [
       "<div style=\"max-height:1000px;max-width:1500px;overflow:auto;\">\n",
       "<table border=\"1\" class=\"dataframe\">\n",
       "  <thead>\n",
       "    <tr style=\"text-align: right;\">\n",
       "      <th></th>\n",
       "      <th>id</th>\n",
       "      <th>latitude</th>\n",
       "      <th>longitude</th>\n",
       "      <th>name</th>\n",
       "      <th>subnetwork_id</th>\n",
       "    </tr>\n",
       "  </thead>\n",
       "  <tbody>\n",
       "    <tr>\n",
       "      <th>0</th>\n",
       "      <td> 203</td>\n",
       "      <td>          46.523023</td>\n",
       "      <td>          6.565379</td>\n",
       "      <td>  Quartier nord</td>\n",
       "      <td> 10</td>\n",
       "    </tr>\n",
       "    <tr>\n",
       "      <th>1</th>\n",
       "      <td> 205</td>\n",
       "      <td>         46.7736538</td>\n",
       "      <td>         6.6356867</td>\n",
       "      <td>           CPNV</td>\n",
       "      <td>  8</td>\n",
       "    </tr>\n",
       "    <tr>\n",
       "      <th>2</th>\n",
       "      <td> 206</td>\n",
       "      <td>          46.532962</td>\n",
       "      <td>          6.566493</td>\n",
       "      <td>       Ecublens</td>\n",
       "      <td> 10</td>\n",
       "    </tr>\n",
       "    <tr>\n",
       "      <th>3</th>\n",
       "      <td> 207</td>\n",
       "      <td>  46.00995862060886</td>\n",
       "      <td>  8.95334243774414</td>\n",
       "      <td>        Morcote</td>\n",
       "      <td> 12</td>\n",
       "    </tr>\n",
       "    <tr>\n",
       "      <th>4</th>\n",
       "      <td> 208</td>\n",
       "      <td>            46.5058</td>\n",
       "      <td>            6.6711</td>\n",
       "      <td>         Paudex</td>\n",
       "      <td>  9</td>\n",
       "    </tr>\n",
       "    <tr>\n",
       "      <th>5</th>\n",
       "      <td> 209</td>\n",
       "      <td> 46.777964883682365</td>\n",
       "      <td> 6.639086540722701</td>\n",
       "      <td>       P+R+BIKE</td>\n",
       "      <td>  8</td>\n",
       "    </tr>\n",
       "    <tr>\n",
       "      <th>6</th>\n",
       "      <td> 211</td>\n",
       "      <td>  46.00995862060886</td>\n",
       "      <td>  8.95334243774414</td>\n",
       "      <td>   Mulino Nuovo</td>\n",
       "      <td> 12</td>\n",
       "    </tr>\n",
       "    <tr>\n",
       "      <th>7</th>\n",
       "      <td> 210</td>\n",
       "      <td>  46.00995862060886</td>\n",
       "      <td>  8.95334243774414</td>\n",
       "      <td> Arte e Cultura</td>\n",
       "      <td> 12</td>\n",
       "    </tr>\n",
       "  </tbody>\n",
       "</table>\n",
       "</div>"
      ],
      "text/plain": [
       "    id            latitude          longitude            name subnetwork_id\n",
       "0  203           46.523023           6.565379   Quartier nord            10\n",
       "1  205          46.7736538          6.6356867            CPNV             8\n",
       "2  206           46.532962           6.566493        Ecublens            10\n",
       "3  207   46.00995862060886   8.95334243774414         Morcote            12\n",
       "4  208             46.5058             6.6711          Paudex             9\n",
       "5  209  46.777964883682365  6.639086540722701        P+R+BIKE             8\n",
       "6  211   46.00995862060886   8.95334243774414    Mulino Nuovo            12\n",
       "7  210   46.00995862060886   8.95334243774414  Arte e Cultura            12"
      ]
     },
     "execution_count": 302,
     "metadata": {},
     "output_type": "execute_result"
    }
   ],
   "source": [
    "delinq_stns_df"
   ]
  },
  {
   "cell_type": "code",
   "execution_count": 307,
   "metadata": {
    "collapsed": false
   },
   "outputs": [
    {
     "data": {
      "text/html": [
       "<div style=\"max-height:1000px;max-width:1500px;overflow:auto;\">\n",
       "<table border=\"1\" class=\"dataframe\">\n",
       "  <thead>\n",
       "    <tr style=\"text-align: right;\">\n",
       "      <th></th>\n",
       "      <th>id</th>\n",
       "      <th>latitude</th>\n",
       "      <th>longitude</th>\n",
       "      <th>name</th>\n",
       "      <th>subnetwork_id</th>\n",
       "      <th>subnetwork_name</th>\n",
       "    </tr>\n",
       "  </thead>\n",
       "  <tbody>\n",
       "    <tr>\n",
       "      <th>0</th>\n",
       "      <td> 203</td>\n",
       "      <td>          46.523023</td>\n",
       "      <td>          6.565379</td>\n",
       "      <td>  Quartier nord</td>\n",
       "      <td> 10</td>\n",
       "      <td>            Campus</td>\n",
       "    </tr>\n",
       "    <tr>\n",
       "      <th>1</th>\n",
       "      <td> 205</td>\n",
       "      <td>         46.7736538</td>\n",
       "      <td>         6.6356867</td>\n",
       "      <td>           CPNV</td>\n",
       "      <td>  8</td>\n",
       "      <td> Yverdon-les-Bains</td>\n",
       "    </tr>\n",
       "    <tr>\n",
       "      <th>2</th>\n",
       "      <td> 206</td>\n",
       "      <td>          46.532962</td>\n",
       "      <td>          6.566493</td>\n",
       "      <td>       Ecublens</td>\n",
       "      <td> 10</td>\n",
       "      <td>            Campus</td>\n",
       "    </tr>\n",
       "    <tr>\n",
       "      <th>3</th>\n",
       "      <td> 207</td>\n",
       "      <td>  46.00995862060886</td>\n",
       "      <td>  8.95334243774414</td>\n",
       "      <td>        Morcote</td>\n",
       "      <td> 12</td>\n",
       "      <td>   Lugano-Paradiso</td>\n",
       "    </tr>\n",
       "    <tr>\n",
       "      <th>4</th>\n",
       "      <td> 208</td>\n",
       "      <td>            46.5058</td>\n",
       "      <td>            6.6711</td>\n",
       "      <td>         Paudex</td>\n",
       "      <td>  9</td>\n",
       "      <td>   Lausanne-Morges</td>\n",
       "    </tr>\n",
       "    <tr>\n",
       "      <th>5</th>\n",
       "      <td> 209</td>\n",
       "      <td> 46.777964883682365</td>\n",
       "      <td> 6.639086540722701</td>\n",
       "      <td>       P+R+BIKE</td>\n",
       "      <td>  8</td>\n",
       "      <td> Yverdon-les-Bains</td>\n",
       "    </tr>\n",
       "    <tr>\n",
       "      <th>6</th>\n",
       "      <td> 211</td>\n",
       "      <td>  46.00995862060886</td>\n",
       "      <td>  8.95334243774414</td>\n",
       "      <td>   Mulino Nuovo</td>\n",
       "      <td> 12</td>\n",
       "      <td>   Lugano-Paradiso</td>\n",
       "    </tr>\n",
       "    <tr>\n",
       "      <th>7</th>\n",
       "      <td> 210</td>\n",
       "      <td>  46.00995862060886</td>\n",
       "      <td>  8.95334243774414</td>\n",
       "      <td> Arte e Cultura</td>\n",
       "      <td> 12</td>\n",
       "      <td>   Lugano-Paradiso</td>\n",
       "    </tr>\n",
       "  </tbody>\n",
       "</table>\n",
       "</div>"
      ],
      "text/plain": [
       "    id            latitude          longitude            name subnetwork_id  \\\n",
       "0  203           46.523023           6.565379   Quartier nord            10   \n",
       "1  205          46.7736538          6.6356867            CPNV             8   \n",
       "2  206           46.532962           6.566493        Ecublens            10   \n",
       "3  207   46.00995862060886   8.95334243774414         Morcote            12   \n",
       "4  208             46.5058             6.6711          Paudex             9   \n",
       "5  209  46.777964883682365  6.639086540722701        P+R+BIKE             8   \n",
       "6  211   46.00995862060886   8.95334243774414    Mulino Nuovo            12   \n",
       "7  210   46.00995862060886   8.95334243774414  Arte e Cultura            12   \n",
       "\n",
       "     subnetwork_name  \n",
       "0             Campus  \n",
       "1  Yverdon-les-Bains  \n",
       "2             Campus  \n",
       "3    Lugano-Paradiso  \n",
       "4    Lausanne-Morges  \n",
       "5  Yverdon-les-Bains  \n",
       "6    Lugano-Paradiso  \n",
       "7    Lugano-Paradiso  "
      ]
     },
     "execution_count": 307,
     "metadata": {},
     "output_type": "execute_result"
    }
   ],
   "source": [
    "non_delinq_stns_df = pd.DataFrame( s for s in stations if s['id'] not in delinq_stns)\n",
    "non_delinq_stns_df['subnetwork_name'] = list(subnets_df.name[ list(delinq_stns_df.subnetwork_id)])\n",
    "non_delinq_stns_df"
   ]
  },
  {
   "cell_type": "code",
   "execution_count": 310,
   "metadata": {
    "collapsed": false
   },
   "outputs": [
    {
     "data": {
      "text/html": [
       "<div style=\"max-height:1000px;max-width:1500px;overflow:auto;\">\n",
       "<table border=\"1\" class=\"dataframe\">\n",
       "  <thead>\n",
       "    <tr style=\"text-align: right;\">\n",
       "      <th></th>\n",
       "      <th>id</th>\n",
       "      <th>latitude</th>\n",
       "      <th>longitude</th>\n",
       "      <th>name</th>\n",
       "      <th>subnetwork_id</th>\n",
       "      <th>subnetwork_name</th>\n",
       "    </tr>\n",
       "  </thead>\n",
       "  <tbody>\n",
       "    <tr>\n",
       "      <th>0</th>\n",
       "      <td> 145</td>\n",
       "      <td> 46.228466314214494</td>\n",
       "      <td> 7.350518703460693</td>\n",
       "      <td>           Ancien-Stand</td>\n",
       "      <td> 7</td>\n",
       "      <td> Valais Central</td>\n",
       "    </tr>\n",
       "    <tr>\n",
       "      <th>1</th>\n",
       "      <td> 147</td>\n",
       "      <td> 46.230767099149595</td>\n",
       "      <td> 7.373178005218506</td>\n",
       "      <td>            Bietschhorn</td>\n",
       "      <td> 7</td>\n",
       "      <td> Valais Central</td>\n",
       "    </tr>\n",
       "    <tr>\n",
       "      <th>2</th>\n",
       "      <td> 141</td>\n",
       "      <td>           46.26061</td>\n",
       "      <td>           6.94682</td>\n",
       "      <td> Centre Manor - Monthey</td>\n",
       "      <td> 6</td>\n",
       "      <td>       Chablais</td>\n",
       "    </tr>\n",
       "    <tr>\n",
       "      <th>3</th>\n",
       "      <td> 134</td>\n",
       "      <td>           46.31715</td>\n",
       "      <td>           6.96444</td>\n",
       "      <td>           Gare d´Aigle</td>\n",
       "      <td> 6</td>\n",
       "      <td>       Chablais</td>\n",
       "    </tr>\n",
       "    <tr>\n",
       "      <th>4</th>\n",
       "      <td> 135</td>\n",
       "      <td>          46.317696</td>\n",
       "      <td>          6.969498</td>\n",
       "      <td> Hotel de Ville - Aigle</td>\n",
       "      <td> 6</td>\n",
       "      <td>       Chablais</td>\n",
       "    </tr>\n",
       "  </tbody>\n",
       "</table>\n",
       "</div>"
      ],
      "text/plain": [
       "    id            latitude          longitude                    name  \\\n",
       "0  145  46.228466314214494  7.350518703460693            Ancien-Stand   \n",
       "1  147  46.230767099149595  7.373178005218506             Bietschhorn   \n",
       "2  141            46.26061            6.94682  Centre Manor - Monthey   \n",
       "3  134            46.31715            6.96444            Gare d´Aigle   \n",
       "4  135           46.317696           6.969498  Hotel de Ville - Aigle   \n",
       "\n",
       "  subnetwork_id subnetwork_name  \n",
       "0             7  Valais Central  \n",
       "1             7  Valais Central  \n",
       "2             6        Chablais  \n",
       "3             6        Chablais  \n",
       "4             6        Chablais  "
      ]
     },
     "execution_count": 310,
     "metadata": {},
     "output_type": "execute_result"
    }
   ],
   "source": [
    "delinq_stns_df = pd.DataFrame( s for s in stations if s['id']  in delinq_stns)\n",
    "delinq_stns_df['subnetwork_name'] = list(subnets_df.name[ list(delinq_stns_df.subnetwork_id)])\n",
    "delinq_stns_df.head()"
   ]
  },
  {
   "cell_type": "markdown",
   "metadata": {},
   "source": [
    "We saw that the *subnetwork_id* assigned to the users was 13 (PubliBike) for delinquent users. However when we looked at the stations used by the delinquent users we see that the subnetwork assingned to those stations is not Publibike (13)!!! **We observe that neither the subnetwork provided in the data set, nor the subnetwork_id in the users data set are usable, as in they do not match the subnetwork_ids in stations, or transactions.**"
   ]
  },
  {
   "cell_type": "code",
   "execution_count": 308,
   "metadata": {
    "collapsed": false
   },
   "outputs": [
    {
     "data": {
      "text/plain": [
       "{u'address': u'',\n",
       " u'expires': u'',\n",
       " u'gender': u'M',\n",
       " u'id': u'83875',\n",
       " u'postal_code': u'',\n",
       " u'subnetwork_id': u'13'}"
      ]
     },
     "execution_count": 308,
     "metadata": {},
     "output_type": "execute_result"
    }
   ],
   "source": [
    "users[0]"
   ]
  },
  {
   "cell_type": "code",
   "execution_count": null,
   "metadata": {
    "collapsed": true
   },
   "outputs": [],
   "source": []
  }
 ],
 "metadata": {
  "kernelspec": {
   "display_name": "Python 2",
   "language": "python",
   "name": "python2"
  },
  "language_info": {
   "codemirror_mode": {
    "name": "ipython",
    "version": 2
   },
   "file_extension": ".py",
   "mimetype": "text/x-python",
   "name": "python",
   "nbconvert_exporter": "python",
   "pygments_lexer": "ipython2",
   "version": "2.7.9"
  }
 },
 "nbformat": 4,
 "nbformat_minor": 0
}
